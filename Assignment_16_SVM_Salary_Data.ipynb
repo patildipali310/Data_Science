{
 "cells": [
  {
   "cell_type": "markdown",
   "id": "f40da40e",
   "metadata": {},
   "source": [
    "# Assignment_16_SVM_Salary_Data"
   ]
  },
  {
   "cell_type": "markdown",
   "id": "69b0a3fe",
   "metadata": {},
   "source": [
    "1) Prepare a classification model using SVM for salary data \n",
    "\n",
    "Data Description:\n",
    "\n",
    "age -- age of a person\n",
    "workclass\t-- A work class is a grouping of work \n",
    "education\t-- Education of an individuals\t\n",
    "maritalstatus -- Marital status of an individulas\t\n",
    "occupation\t -- occupation of an individuals\n",
    "relationship -- \t\n",
    "race --  Race of an Individual\n",
    "sex --  Gender of an Individual\n",
    "capitalgain --  profit received from the sale of an investment\t\n",
    "capitalloss\t-- A decrease in the value of a capital asset\n",
    "hoursperweek -- number of hours work per week\t\n",
    "native -- Native of an individual\n",
    "Salary -- salary of an individual"
   ]
  },
  {
   "cell_type": "code",
   "execution_count": null,
   "id": "febae17f",
   "metadata": {},
   "outputs": [],
   "source": [
    "import pandas as pd"
   ]
  },
  {
   "cell_type": "code",
   "execution_count": null,
   "id": "1178b76c",
   "metadata": {},
   "outputs": [],
   "source": [
    "sal = pd.read_csv(\"D:\\Data Science\\Assignments\\SalaryData_Train(1).csv\")\n",
    "sal.head()"
   ]
  },
  {
   "cell_type": "markdown",
   "id": "0ac1ea73",
   "metadata": {},
   "source": [
    "# EDA"
   ]
  },
  {
   "cell_type": "code",
   "execution_count": null,
   "id": "420b1da3",
   "metadata": {},
   "outputs": [],
   "source": [
    "sal.shape      # row and column "
   ]
  },
  {
   "cell_type": "code",
   "execution_count": null,
   "id": "946d5aef",
   "metadata": {},
   "outputs": [],
   "source": [
    "sal.columns     # columns"
   ]
  },
  {
   "cell_type": "code",
   "execution_count": null,
   "id": "70145da4",
   "metadata": {},
   "outputs": [],
   "source": [
    "sal.index     # rows"
   ]
  },
  {
   "cell_type": "code",
   "execution_count": null,
   "id": "3e16be7a",
   "metadata": {},
   "outputs": [],
   "source": [
    "sal.info()    # checking datatypes and null values"
   ]
  },
  {
   "cell_type": "code",
   "execution_count": null,
   "id": "8ad33cb1",
   "metadata": {},
   "outputs": [],
   "source": [
    "sal['Salary'].value_counts()"
   ]
  },
  {
   "cell_type": "code",
   "execution_count": null,
   "id": "9c81f91a",
   "metadata": {},
   "outputs": [],
   "source": [
    "print(sal['Salary'].unique())      # unique values\n",
    "print(sal['workclass'].unique()) \n",
    "print(sal['education'].unique())\n",
    "print(sal['maritalstatus'].unique())\n",
    "print(sal['occupation'].unique())\n",
    "print(sal['relationship'].unique())\n",
    "print(sal['race'].unique())\n",
    "print(sal['sex'].unique())\n",
    "print(sal['native'].unique())"
   ]
  },
  {
   "cell_type": "code",
   "execution_count": null,
   "id": "cfcbe17d",
   "metadata": {},
   "outputs": [],
   "source": [
    "sal.describe()     # discriptive statistics"
   ]
  },
  {
   "cell_type": "code",
   "execution_count": null,
   "id": "39dead46",
   "metadata": {},
   "outputs": [],
   "source": [
    "sal[sal.duplicated()]    "
   ]
  },
  {
   "cell_type": "code",
   "execution_count": null,
   "id": "272cd0df",
   "metadata": {},
   "outputs": [],
   "source": [
    "sal.corr()      # Find Correlation between variables"
   ]
  },
  {
   "cell_type": "markdown",
   "id": "bda74e6f",
   "metadata": {},
   "source": [
    "# Visualization"
   ]
  },
  {
   "cell_type": "code",
   "execution_count": null,
   "id": "e235fe74",
   "metadata": {},
   "outputs": [],
   "source": [
    "import matplotlib.pyplot as plt\n",
    "fig, ax = plt.subplots(nrows = 2, ncols = 2, figsize = (15,7))\n",
    "ax[0,0].plot('hoursperweek', 'capitalloss', data = sal);ax[0,0].set_title(\"Line Plot( Hours/week Vs capital loss)\")\n",
    "ax[0,1].hist('sex', data = sal);ax[0,1].set_title(\"Histogram( Sex)\")\n",
    "ax[1,0].scatter('age', 'Salary', data = sal);ax[1,0].set_title(\"Scatter Plot(age Vs Salary)\")\n",
    "ax[1,1].hist('Salary', data = sal);ax[1,1].set_title(\"Histogram( Salary)\")\n",
    "plt.show()"
   ]
  },
  {
   "cell_type": "code",
   "execution_count": null,
   "id": "864c14e4",
   "metadata": {},
   "outputs": [],
   "source": [
    "fig, ax = plt.subplots(nrows = 1, ncols = 2, figsize = (20,3))\n",
    "ax[0].plot('educationno', 'Salary' , data = sal);plt.xlabel('educationno');plt.ylabel(\"Salary\");ax[0].set_title(\"Education_no Vs Salary\")\n",
    "ax[1].plot('age', 'education' , data = sal);plt.xlabel(\"age\");plt.ylabel(\"education\"); ax[1].set_title(\"Relationship between age Vs Education\")\n",
    "plt.show()"
   ]
  },
  {
   "cell_type": "code",
   "execution_count": null,
   "id": "9336ec9b",
   "metadata": {},
   "outputs": [],
   "source": [
    "# Outliers detection using Boxplot\n",
    "\n",
    "fig, ax = plt.subplots(nrows = 2, ncols = 2, figsize = (15,7))\n",
    "ax[0,0].boxplot('age', data = sal);plt.ylabel(\"age\");ax[0,0].set_title(\"ouliers of age\")\n",
    "ax[0,1].boxplot('educationno', data = sal);plt.ylabel(\"educationno\"); ax[0,1].set_title(\"outliers of educationno\")\n",
    "ax[1,0].boxplot('capitalgain', data = sal);plt.ylabel(\"capitalgain\");ax[1,0].set_title(\"outliers of capitalgain\")\n",
    "ax[1,1].boxplot('capitalloss', data = sal);plt.ylabel(\"capitalloss\"); ax[1,1].set_title(\"outliers of capitalloss\")\n",
    "plt.show()"
   ]
  },
  {
   "cell_type": "code",
   "execution_count": null,
   "id": "c6997813",
   "metadata": {},
   "outputs": [],
   "source": [
    "import seaborn as sns\n",
    "sns.pairplot(sal)\n",
    "plt.show()"
   ]
  },
  {
   "cell_type": "markdown",
   "id": "6d0b2cbb",
   "metadata": {},
   "source": [
    "# SVC"
   ]
  },
  {
   "cell_type": "code",
   "execution_count": null,
   "id": "67a51061",
   "metadata": {},
   "outputs": [],
   "source": [
    "sal.info()"
   ]
  },
  {
   "cell_type": "code",
   "execution_count": null,
   "id": "32eec9a8",
   "metadata": {},
   "outputs": [],
   "source": [
    "# Convert salary column string  to integer\n",
    "# Label Encoding to convert categorical data into numeric\n",
    "from sklearn.preprocessing import LabelEncoder\n",
    "LE = LabelEncoder()\n",
    "sal['Salary'] = LE.fit_transform(sal['Salary'])\n",
    "sal['workclass'] = LE.fit_transform(sal['workclass'])\n",
    "sal['education'] = LE.fit_transform(sal['education'])\n",
    "sal['maritalstatus'] = LE.fit_transform(sal['maritalstatus'])\n",
    "sal['occupation'] = LE.fit_transform(sal['occupation'])\n",
    "sal['relationship'] = LE.fit_transform(sal['relationship'])\n",
    "sal['race'] = LE.fit_transform(sal['race'])\n",
    "sal['sex'] = LE.fit_transform(sal['sex'])\n",
    "sal['native'] = LE.fit_transform(sal['native'])"
   ]
  },
  {
   "cell_type": "code",
   "execution_count": null,
   "id": "9973c8a5",
   "metadata": {},
   "outputs": [],
   "source": [
    "array = sal.values"
   ]
  },
  {
   "cell_type": "code",
   "execution_count": null,
   "id": "0ff5ec36",
   "metadata": {},
   "outputs": [],
   "source": [
    "# Take a sample of data set for training and testing.\n",
    "X, Y = array[:,:-1], array[:,-1]\n",
    "print(X)\n",
    "print(Y)"
   ]
  },
  {
   "cell_type": "code",
   "execution_count": null,
   "id": "54427ecb",
   "metadata": {},
   "outputs": [],
   "source": [
    "import pandas as pd\n",
    "import numpy as np\n",
    "from sklearn.svm import SVC\n",
    "from sklearn.preprocessing import StandardScaler\n",
    "from sklearn.model_selection import train_test_split\n",
    "from sklearn.metrics import accuracy_score\n",
    "\n",
    "# Creating training and test split\n",
    " \n",
    "X_train, X_test, y_train, y_test = train_test_split(X, Y, test_size=0.3, random_state=1, stratify = Y)\n",
    " \n",
    "# Feature Scaling\n",
    " \n",
    "sc = StandardScaler()\n",
    "sc.fit(X_train)\n",
    "X_train_std = sc.transform(X_train)\n",
    "X_test_std = sc.transform(X_test)\n",
    " \n",
    "# Training a SVM classifier using SVC class\n",
    "svm = SVC(kernel= 'linear', random_state=1, C=0.1)\n",
    "svm.fit(X_train_std, y_train)\n",
    " \n",
    "# Mode performance\n",
    " \n",
    "y_pred = svm.predict(X_test_std)\n",
    "print('Accuracy: %.3f' % accuracy_score(y_test, y_pred))"
   ]
  },
  {
   "cell_type": "markdown",
   "id": "d14890d8",
   "metadata": {},
   "source": [
    "# Accuracy is very small so we predict model using  SVM."
   ]
  },
  {
   "cell_type": "markdown",
   "id": "09d9ac66",
   "metadata": {},
   "source": [
    "# SVM"
   ]
  },
  {
   "cell_type": "code",
   "execution_count": null,
   "id": "c56d6aba",
   "metadata": {},
   "outputs": [],
   "source": [
    "from sklearn.svm import SVC\n",
    "from sklearn.model_selection import GridSearchCV, RandomizedSearchCV, train_test_split, cross_val_score\n",
    "from sklearn.metrics import classification_report\n",
    "from sklearn.metrics import accuracy_score, confusion_matrix"
   ]
  },
  {
   "cell_type": "code",
   "execution_count": null,
   "id": "dc55f32e",
   "metadata": {},
   "outputs": [],
   "source": [
    "x_train, x_test, y_train, y_test = train_test_split(X, Y, test_size = 0.3)"
   ]
  },
  {
   "cell_type": "code",
   "execution_count": null,
   "id": "2aaf558c",
   "metadata": {},
   "outputs": [],
   "source": [
    "x_train.shape, x_test.shape, y_train.shape, y_test.shape"
   ]
  },
  {
   "cell_type": "markdown",
   "id": "25f2b6a9",
   "metadata": {},
   "source": [
    "1) Grid Search CV"
   ]
  },
  {
   "cell_type": "code",
   "execution_count": null,
   "id": "cb7f620d",
   "metadata": {},
   "outputs": [],
   "source": [
    "SVMC = SVC(random_state=42)\n",
    "\n",
    "svc_param_grid = {'kernel': ['rbf', 'sigmoid', 'poly','linear'], \n",
    "                  'gamma': [1, 0.1, 0.01, 0.001],\n",
    "                  'C': [1000, 100, 10, 1],\n",
    "                  'tol':[0.001,0.0008,0.0009,0.0011]}\n",
    "\n",
    "gsSVMC = GridSearchCV(SVMC, param_grid = svc_param_grid, cv = 10, scoring = \"accuracy\", n_jobs = 6, verbose = 1)\n",
    "\n",
    "gsSVMC.fit(x_train,y_train)\n",
    "\n",
    "svm_best = gsSVMC.best_estimator_\n",
    "\n",
    "gsSVMC.best_score_"
   ]
  },
  {
   "cell_type": "markdown",
   "id": "a5c6769e",
   "metadata": {},
   "source": [
    "OR 2) Grid Search CV"
   ]
  },
  {
   "cell_type": "code",
   "execution_count": null,
   "id": "f3c4a460",
   "metadata": {},
   "outputs": [],
   "source": [
    "clf = SVC()\n",
    "param_grid = [{'kernel': ['linear', 'rbf'], 'gamma' : [0.5,0.1,0.1], 'C':[10,0.1,0.001,0.0001]}]\n",
    "gsv = GridSearchCV(clf, param_grid, cv = 10, verbose = 30)\n",
    "gsv.fit(x_train, y_train)"
   ]
  },
  {
   "cell_type": "code",
   "execution_count": null,
   "id": "faab322e",
   "metadata": {},
   "outputs": [],
   "source": [
    "gsv.best_params_, gsv.best_score_"
   ]
  },
  {
   "cell_type": "code",
   "execution_count": null,
   "id": "20f55216",
   "metadata": {},
   "outputs": [],
   "source": [
    "clf = SVC(kernel = 'linear', C = 10)\n",
    "clf.fit(x_train, y_train)\n",
    "y_pred = clf.predict(x_test)\n",
    "acc = accuracy_score(y_test, y_pred)*100\n",
    "print(\"Accuracy is: \", acc)\n",
    "confusion_matrix(y_test, y_pred)"
   ]
  },
  {
   "cell_type": "markdown",
   "id": "99702374",
   "metadata": {},
   "source": [
    "# Logistic Regression"
   ]
  },
  {
   "cell_type": "code",
   "execution_count": null,
   "id": "bacf03f8",
   "metadata": {},
   "outputs": [],
   "source": [
    "# Dividing dataset into input and output\n",
    "X = sal.iloc[:,:-1]\n",
    "Y = sal.iloc[:,-1]\n",
    "# print(X)\n",
    "# print(Y)"
   ]
  },
  {
   "cell_type": "code",
   "execution_count": null,
   "id": "49c589a4",
   "metadata": {},
   "outputs": [],
   "source": [
    "from sklearn.linear_model import LogisticRegression\n",
    "import pickle"
   ]
  },
  {
   "cell_type": "code",
   "execution_count": null,
   "id": "3b6dfa2d",
   "metadata": {},
   "outputs": [],
   "source": [
    "sal.isna().sum()"
   ]
  },
  {
   "cell_type": "code",
   "execution_count": null,
   "id": "d0bd407b",
   "metadata": {},
   "outputs": [],
   "source": [
    "# we already Divided dataset into input and output(I.e. model building is done)\n",
    "# model fitting\n",
    "classifier = LogisticRegression()\n",
    "classifier.fit(X,Y)"
   ]
  },
  {
   "cell_type": "code",
   "execution_count": null,
   "id": "2c7136a7",
   "metadata": {},
   "outputs": [],
   "source": [
    "# Save the model to disk\n",
    "filename = 'finalized_model.sav'\n",
    "pickle.dump(classifier, open(filename, 'wb'))"
   ]
  },
  {
   "cell_type": "code",
   "execution_count": null,
   "id": "3fd3604e",
   "metadata": {},
   "outputs": [],
   "source": [
    "# Predict for X dataset\n",
    "pickle.load(open(filename, 'rb'))\n",
    "y_pred = classifier.predict(X)"
   ]
  },
  {
   "cell_type": "code",
   "execution_count": null,
   "id": "334f3316",
   "metadata": {},
   "outputs": [],
   "source": [
    "y_pred_sal = pd.DataFrame({'actual':Y, 'predicted_prob': classifier.predict(X)})"
   ]
  },
  {
   "cell_type": "code",
   "execution_count": null,
   "id": "be242c17",
   "metadata": {},
   "outputs": [],
   "source": [
    "y_pred_sal"
   ]
  },
  {
   "cell_type": "code",
   "execution_count": null,
   "id": "a098a816",
   "metadata": {},
   "outputs": [],
   "source": [
    "# Confusion Matrix for the model accuracy\n",
    "from sklearn.metrics import confusion_matrix\n",
    "confusion_matrix = confusion_matrix(Y, y_pred)\n",
    "print(confusion_matrix)"
   ]
  },
  {
   "cell_type": "code",
   "execution_count": null,
   "id": "9b4007d1",
   "metadata": {},
   "outputs": [],
   "source": [
    "((21122+3166)/(21122+1531+4342+3166))*100"
   ]
  },
  {
   "cell_type": "code",
   "execution_count": null,
   "id": "d4ee3993",
   "metadata": {},
   "outputs": [],
   "source": [
    "# Classification Report\n",
    "from sklearn.metrics import classification_report\n",
    "print(classification_report(Y,y_pred))"
   ]
  },
  {
   "cell_type": "code",
   "execution_count": null,
   "id": "d09d1a14",
   "metadata": {},
   "outputs": [],
   "source": [
    "# ROC Curve\n",
    "from sklearn.metrics import roc_curve\n",
    "from sklearn.metrics import roc_auc_score\n",
    "fpr, tpr, thresholds = roc_curve(Y, classifier.predict_proba(X)[:,1])\n",
    "auc = roc_auc_score(Y, y_pred)\n",
    "\n",
    "import matplotlib.pyplot as plt\n",
    "plt.plot(fpr, tpr, color = 'red', label = 'logit model(area = %0.2f)' %auc)\n",
    "plt.plot([0,1], [0,1], 'k--1')\n",
    "plt.xlabel('False Positive Rate or [1 - True Negative Rate]')\n",
    "plt.ylabel('True Positive Rate')\n",
    "plt.show()"
   ]
  },
  {
   "cell_type": "code",
   "execution_count": null,
   "id": "d561b4f1",
   "metadata": {},
   "outputs": [],
   "source": [
    "auc    # Accuracy"
   ]
  },
  {
   "cell_type": "markdown",
   "id": "961ae326",
   "metadata": {},
   "source": [
    "# Decision Tree\n",
    " Model building, training testing"
   ]
  },
  {
   "cell_type": "code",
   "execution_count": null,
   "id": "c530e3d9",
   "metadata": {},
   "outputs": [],
   "source": [
    "# Splitting data into training and testing dataset\n",
    "from  sklearn.model_selection import train_test_split\n",
    "X_train, X_test, Y_train, Y_test = train_test_split(X, Y, test_size = 0.2, random_state = 40)"
   ]
  },
  {
   "cell_type": "code",
   "execution_count": null,
   "id": "b1b1e552",
   "metadata": {},
   "outputs": [],
   "source": [
    "# Building Decision Tree Classifier Using Entropy Criteria\n",
    "from sklearn.tree import DecisionTreeClassifier\n",
    "model = DecisionTreeClassifier(criterion = 'gini', max_depth = 3)\n",
    "model.fit(X_train, Y_train)"
   ]
  },
  {
   "cell_type": "code",
   "execution_count": null,
   "id": "d1862444",
   "metadata": {},
   "outputs": [],
   "source": [
    "model"
   ]
  },
  {
   "cell_type": "code",
   "execution_count": null,
   "id": "2ae19b51",
   "metadata": {},
   "outputs": [],
   "source": [
    "# Decision Tree Plot\n",
    "from sklearn import tree\n",
    "tree.plot_tree(model);"
   ]
  },
  {
   "cell_type": "code",
   "execution_count": null,
   "id": "e52b8bbb",
   "metadata": {},
   "outputs": [],
   "source": [
    "Y_train.value_counts().keys()   # OR sal['Salary'].value_counts()"
   ]
  },
  {
   "cell_type": "code",
   "execution_count": null,
   "id": "2497b327",
   "metadata": {},
   "outputs": [],
   "source": [
    "col = sal.columns\n",
    "col"
   ]
  },
  {
   "cell_type": "code",
   "execution_count": null,
   "id": "8c06838c",
   "metadata": {},
   "outputs": [],
   "source": [
    "col = (['age', 'workclass', 'education', 'educationno', 'maritalstatus',\n",
    "       'occupation', 'relationship', 'race', 'sex', 'capitalgain',\n",
    "       'capitalloss', 'hoursperweek', 'native'])\n",
    "cn = ['0', '1']\n",
    "fig, axes = plt.subplots(nrows = 1, ncols = 1,figsize = (4,4), dpi = 500)\n",
    "tree.plot_tree(model, feature_names = col, class_names = cn, filled = True)\n",
    "plt.show()"
   ]
  },
  {
   "cell_type": "code",
   "execution_count": null,
   "id": "a208389f",
   "metadata": {},
   "outputs": [],
   "source": [
    "#Predicting on test data\n",
    "preds = model.predict(X_test)    # Predicting on test data set\n",
    "pd.Series(preds).value_counts()     # Getting the count of each category "
   ]
  },
  {
   "cell_type": "code",
   "execution_count": null,
   "id": "166cc470",
   "metadata": {},
   "outputs": [],
   "source": [
    "Y_test.value_counts()"
   ]
  },
  {
   "cell_type": "code",
   "execution_count": null,
   "id": "d2b8f838",
   "metadata": {},
   "outputs": [],
   "source": [
    "preds"
   ]
  },
  {
   "cell_type": "code",
   "execution_count": null,
   "id": "941951fb",
   "metadata": {},
   "outputs": [],
   "source": [
    "pd.crosstab(Y_test, preds)  # Getting the 2 way table to understand the correct and wrong predictions"
   ]
  },
  {
   "cell_type": "code",
   "execution_count": null,
   "id": "ecbbc81d",
   "metadata": {},
   "outputs": [],
   "source": [
    "preds, Y_test"
   ]
  },
  {
   "cell_type": "code",
   "execution_count": null,
   "id": "44f35c1b",
   "metadata": {},
   "outputs": [],
   "source": [
    "# Accuracy\n",
    "from sklearn.metrics import accuracy_score\n",
    "import numpy as np\n",
    "np.mean(preds ==Y_test), accuracy_score(Y_test, preds)"
   ]
  },
  {
   "cell_type": "code",
   "execution_count": null,
   "id": "63cb84c7",
   "metadata": {},
   "outputs": [],
   "source": [
    "#Building Decision Tree Classifier (CART) using Gini Criteria\n",
    "from sklearn.tree import DecisionTreeClassifier\n",
    "model_gini = DecisionTreeClassifier(criterion = 'gini', max_depth = 3)"
   ]
  },
  {
   "cell_type": "code",
   "execution_count": null,
   "id": "517be125",
   "metadata": {},
   "outputs": [],
   "source": [
    "model_gini.fit(X_train, Y_train)"
   ]
  },
  {
   "cell_type": "code",
   "execution_count": null,
   "id": "6e0c046c",
   "metadata": {},
   "outputs": [],
   "source": [
    "# Prediction and Computing the accuracy\n",
    "pred = model.predict(X_test)\n",
    "np.mean(preds == Y_test)"
   ]
  },
  {
   "cell_type": "code",
   "execution_count": null,
   "id": "867845e9",
   "metadata": {},
   "outputs": [],
   "source": [
    "# Decision Tree Regression Example\n",
    "from sklearn.tree import DecisionTreeRegressor\n",
    "X_tr, X_t, Y_tr, Y_t = train_test_split(X, Y, test_size = 0.33, random_state = 1)"
   ]
  },
  {
   "cell_type": "code",
   "execution_count": null,
   "id": "f2392a5b",
   "metadata": {},
   "outputs": [],
   "source": [
    "model = DecisionTreeRegressor()\n",
    "model.fit(X_tr, Y_tr)"
   ]
  },
  {
   "cell_type": "code",
   "execution_count": null,
   "id": "44b9b9f8",
   "metadata": {},
   "outputs": [],
   "source": [
    "# Find the accuracy\n",
    "model.score(X_t, Y_t)"
   ]
  },
  {
   "cell_type": "markdown",
   "id": "6f2f242e",
   "metadata": {},
   "source": [
    "# KNN Classification"
   ]
  },
  {
   "cell_type": "code",
   "execution_count": null,
   "id": "4666c45b",
   "metadata": {},
   "outputs": [],
   "source": [
    "from sklearn.model_selection import KFold, cross_val_score\n",
    "from sklearn.neighbors import KNeighborsClassifier"
   ]
  },
  {
   "cell_type": "code",
   "execution_count": null,
   "id": "4ac70014",
   "metadata": {},
   "outputs": [],
   "source": [
    "X.shape\n",
    "Y.shape"
   ]
  },
  {
   "cell_type": "code",
   "execution_count": null,
   "id": "3857c08b",
   "metadata": {},
   "outputs": [],
   "source": [
    "kfold = KFold(n_splits = 10)"
   ]
  },
  {
   "cell_type": "code",
   "execution_count": null,
   "id": "2639eead",
   "metadata": {},
   "outputs": [],
   "source": [
    "model = KNeighborsClassifier(n_neighbors = 12)\n",
    "results = cross_val_score(model, X, Y, cv = kfold)\n",
    "print(results)\n",
    "print(\"Accuracy is:\", results.mean())"
   ]
  },
  {
   "cell_type": "markdown",
   "id": "f1c02113",
   "metadata": {},
   "source": [
    "Grid Search for algorithm tuning"
   ]
  },
  {
   "cell_type": "code",
   "execution_count": null,
   "id": "d01d69ce",
   "metadata": {},
   "outputs": [],
   "source": [
    "from sklearn.model_selection import GridSearchCV\n",
    "import numpy as np"
   ]
  },
  {
   "cell_type": "code",
   "execution_count": null,
   "id": "2c1ac03e",
   "metadata": {},
   "outputs": [],
   "source": [
    "n_neighbors = np.array(range(1,40))\n",
    "param_grid = dict(n_neighbors = n_neighbors)"
   ]
  },
  {
   "cell_type": "code",
   "execution_count": null,
   "id": "7e3e9860",
   "metadata": {},
   "outputs": [],
   "source": [
    "model = KNeighborsClassifier()\n",
    "grid = GridSearchCV(estimator = model, param_grid = param_grid)\n",
    "grid.fit(X,Y)"
   ]
  },
  {
   "cell_type": "code",
   "execution_count": null,
   "id": "e7d2facd",
   "metadata": {},
   "outputs": [],
   "source": [
    "print(grid.best_score_)"
   ]
  },
  {
   "cell_type": "code",
   "execution_count": null,
   "id": "74e6329e",
   "metadata": {},
   "outputs": [],
   "source": []
  }
 ],
 "metadata": {
  "kernelspec": {
   "display_name": "Python 3 (ipykernel)",
   "language": "python",
   "name": "python3"
  },
  "language_info": {
   "codemirror_mode": {
    "name": "ipython",
    "version": 3
   },
   "file_extension": ".py",
   "mimetype": "text/x-python",
   "name": "python",
   "nbconvert_exporter": "python",
   "pygments_lexer": "ipython3",
   "version": "3.9.13"
  }
 },
 "nbformat": 4,
 "nbformat_minor": 5
}
