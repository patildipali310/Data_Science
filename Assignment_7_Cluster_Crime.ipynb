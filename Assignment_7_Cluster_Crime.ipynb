{
 "cells": [
  {
   "cell_type": "markdown",
   "id": "16894637",
   "metadata": {},
   "source": [
    "Perform Clustering(Hierarchical, Kmeans & DBSCAN) for the crime data and identify the number of clusters formed and draw inferences.\n",
    "\n",
    "Data Description:\n",
    "Murder -- Muder rates in different places of United States\n",
    "Assualt- Assualt rate in different places of United States\n",
    "UrbanPop - urban population in different places of United States\n",
    "Rape - Rape rate in different places of United States"
   ]
  },
  {
   "cell_type": "code",
   "execution_count": 1,
   "id": "faf93cf2",
   "metadata": {},
   "outputs": [
    {
     "data": {
      "text/html": [
       "<div>\n",
       "<style scoped>\n",
       "    .dataframe tbody tr th:only-of-type {\n",
       "        vertical-align: middle;\n",
       "    }\n",
       "\n",
       "    .dataframe tbody tr th {\n",
       "        vertical-align: top;\n",
       "    }\n",
       "\n",
       "    .dataframe thead th {\n",
       "        text-align: right;\n",
       "    }\n",
       "</style>\n",
       "<table border=\"1\" class=\"dataframe\">\n",
       "  <thead>\n",
       "    <tr style=\"text-align: right;\">\n",
       "      <th></th>\n",
       "      <th>Unnamed: 0</th>\n",
       "      <th>Murder</th>\n",
       "      <th>Assault</th>\n",
       "      <th>UrbanPop</th>\n",
       "      <th>Rape</th>\n",
       "    </tr>\n",
       "  </thead>\n",
       "  <tbody>\n",
       "    <tr>\n",
       "      <th>0</th>\n",
       "      <td>Alabama</td>\n",
       "      <td>13.2</td>\n",
       "      <td>236</td>\n",
       "      <td>58</td>\n",
       "      <td>21.2</td>\n",
       "    </tr>\n",
       "    <tr>\n",
       "      <th>1</th>\n",
       "      <td>Alaska</td>\n",
       "      <td>10.0</td>\n",
       "      <td>263</td>\n",
       "      <td>48</td>\n",
       "      <td>44.5</td>\n",
       "    </tr>\n",
       "    <tr>\n",
       "      <th>2</th>\n",
       "      <td>Arizona</td>\n",
       "      <td>8.1</td>\n",
       "      <td>294</td>\n",
       "      <td>80</td>\n",
       "      <td>31.0</td>\n",
       "    </tr>\n",
       "    <tr>\n",
       "      <th>3</th>\n",
       "      <td>Arkansas</td>\n",
       "      <td>8.8</td>\n",
       "      <td>190</td>\n",
       "      <td>50</td>\n",
       "      <td>19.5</td>\n",
       "    </tr>\n",
       "    <tr>\n",
       "      <th>4</th>\n",
       "      <td>California</td>\n",
       "      <td>9.0</td>\n",
       "      <td>276</td>\n",
       "      <td>91</td>\n",
       "      <td>40.6</td>\n",
       "    </tr>\n",
       "  </tbody>\n",
       "</table>\n",
       "</div>"
      ],
      "text/plain": [
       "   Unnamed: 0  Murder  Assault  UrbanPop  Rape\n",
       "0     Alabama    13.2      236        58  21.2\n",
       "1      Alaska    10.0      263        48  44.5\n",
       "2     Arizona     8.1      294        80  31.0\n",
       "3    Arkansas     8.8      190        50  19.5\n",
       "4  California     9.0      276        91  40.6"
      ]
     },
     "execution_count": 1,
     "metadata": {},
     "output_type": "execute_result"
    }
   ],
   "source": [
    "import pandas as pd\n",
    "df = pd.read_csv(\"D:\\Data Science\\Assignments\\crime_data.csv\")\n",
    "df.head()"
   ]
  },
  {
   "cell_type": "markdown",
   "id": "d33c9e33",
   "metadata": {},
   "source": [
    "# EDA"
   ]
  },
  {
   "cell_type": "code",
   "execution_count": 2,
   "id": "3d60c65a",
   "metadata": {},
   "outputs": [
    {
     "data": {
      "text/plain": [
       "Index(['Unnamed: 0', 'Murder', 'Assault', 'UrbanPop', 'Rape'], dtype='object')"
      ]
     },
     "execution_count": 2,
     "metadata": {},
     "output_type": "execute_result"
    }
   ],
   "source": [
    "df.columns"
   ]
  },
  {
   "cell_type": "code",
   "execution_count": 3,
   "id": "caa1b233",
   "metadata": {},
   "outputs": [],
   "source": [
    "df.columns = [\"Name\", \"Murder\", \"Assault\", \"UrbanPop\", \"Rape\"]"
   ]
  },
  {
   "cell_type": "code",
   "execution_count": 4,
   "id": "bf45f05f",
   "metadata": {},
   "outputs": [
    {
     "data": {
      "text/plain": [
       "Index(['Name', 'Murder', 'Assault', 'UrbanPop', 'Rape'], dtype='object')"
      ]
     },
     "execution_count": 4,
     "metadata": {},
     "output_type": "execute_result"
    }
   ],
   "source": [
    "df.columns"
   ]
  },
  {
   "cell_type": "code",
   "execution_count": 5,
   "id": "41bab478",
   "metadata": {},
   "outputs": [
    {
     "name": "stdout",
     "output_type": "stream",
     "text": [
      "<class 'pandas.core.frame.DataFrame'>\n",
      "RangeIndex: 50 entries, 0 to 49\n",
      "Data columns (total 5 columns):\n",
      " #   Column    Non-Null Count  Dtype  \n",
      "---  ------    --------------  -----  \n",
      " 0   Name      50 non-null     object \n",
      " 1   Murder    50 non-null     float64\n",
      " 2   Assault   50 non-null     int64  \n",
      " 3   UrbanPop  50 non-null     int64  \n",
      " 4   Rape      50 non-null     float64\n",
      "dtypes: float64(2), int64(2), object(1)\n",
      "memory usage: 2.1+ KB\n"
     ]
    }
   ],
   "source": [
    "df.info()"
   ]
  },
  {
   "cell_type": "code",
   "execution_count": 6,
   "id": "3dc9785c",
   "metadata": {},
   "outputs": [
    {
     "data": {
      "text/plain": [
       "(50, 5)"
      ]
     },
     "execution_count": 6,
     "metadata": {},
     "output_type": "execute_result"
    }
   ],
   "source": [
    "df.shape"
   ]
  },
  {
   "cell_type": "code",
   "execution_count": 7,
   "id": "bc2450ce",
   "metadata": {},
   "outputs": [
    {
     "data": {
      "text/html": [
       "<div>\n",
       "<style scoped>\n",
       "    .dataframe tbody tr th:only-of-type {\n",
       "        vertical-align: middle;\n",
       "    }\n",
       "\n",
       "    .dataframe tbody tr th {\n",
       "        vertical-align: top;\n",
       "    }\n",
       "\n",
       "    .dataframe thead th {\n",
       "        text-align: right;\n",
       "    }\n",
       "</style>\n",
       "<table border=\"1\" class=\"dataframe\">\n",
       "  <thead>\n",
       "    <tr style=\"text-align: right;\">\n",
       "      <th></th>\n",
       "      <th>Murder</th>\n",
       "      <th>Assault</th>\n",
       "      <th>UrbanPop</th>\n",
       "      <th>Rape</th>\n",
       "    </tr>\n",
       "  </thead>\n",
       "  <tbody>\n",
       "    <tr>\n",
       "      <th>count</th>\n",
       "      <td>50.00000</td>\n",
       "      <td>50.000000</td>\n",
       "      <td>50.000000</td>\n",
       "      <td>50.000000</td>\n",
       "    </tr>\n",
       "    <tr>\n",
       "      <th>mean</th>\n",
       "      <td>7.78800</td>\n",
       "      <td>170.760000</td>\n",
       "      <td>65.540000</td>\n",
       "      <td>21.232000</td>\n",
       "    </tr>\n",
       "    <tr>\n",
       "      <th>std</th>\n",
       "      <td>4.35551</td>\n",
       "      <td>83.337661</td>\n",
       "      <td>14.474763</td>\n",
       "      <td>9.366385</td>\n",
       "    </tr>\n",
       "    <tr>\n",
       "      <th>min</th>\n",
       "      <td>0.80000</td>\n",
       "      <td>45.000000</td>\n",
       "      <td>32.000000</td>\n",
       "      <td>7.300000</td>\n",
       "    </tr>\n",
       "    <tr>\n",
       "      <th>25%</th>\n",
       "      <td>4.07500</td>\n",
       "      <td>109.000000</td>\n",
       "      <td>54.500000</td>\n",
       "      <td>15.075000</td>\n",
       "    </tr>\n",
       "    <tr>\n",
       "      <th>50%</th>\n",
       "      <td>7.25000</td>\n",
       "      <td>159.000000</td>\n",
       "      <td>66.000000</td>\n",
       "      <td>20.100000</td>\n",
       "    </tr>\n",
       "    <tr>\n",
       "      <th>75%</th>\n",
       "      <td>11.25000</td>\n",
       "      <td>249.000000</td>\n",
       "      <td>77.750000</td>\n",
       "      <td>26.175000</td>\n",
       "    </tr>\n",
       "    <tr>\n",
       "      <th>max</th>\n",
       "      <td>17.40000</td>\n",
       "      <td>337.000000</td>\n",
       "      <td>91.000000</td>\n",
       "      <td>46.000000</td>\n",
       "    </tr>\n",
       "  </tbody>\n",
       "</table>\n",
       "</div>"
      ],
      "text/plain": [
       "         Murder     Assault   UrbanPop       Rape\n",
       "count  50.00000   50.000000  50.000000  50.000000\n",
       "mean    7.78800  170.760000  65.540000  21.232000\n",
       "std     4.35551   83.337661  14.474763   9.366385\n",
       "min     0.80000   45.000000  32.000000   7.300000\n",
       "25%     4.07500  109.000000  54.500000  15.075000\n",
       "50%     7.25000  159.000000  66.000000  20.100000\n",
       "75%    11.25000  249.000000  77.750000  26.175000\n",
       "max    17.40000  337.000000  91.000000  46.000000"
      ]
     },
     "execution_count": 7,
     "metadata": {},
     "output_type": "execute_result"
    }
   ],
   "source": [
    "df.describe()"
   ]
  },
  {
   "cell_type": "code",
   "execution_count": 8,
   "id": "22a8a8ab",
   "metadata": {},
   "outputs": [
    {
     "data": {
      "text/plain": [
       "Name        0\n",
       "Murder      0\n",
       "Assault     0\n",
       "UrbanPop    0\n",
       "Rape        0\n",
       "dtype: int64"
      ]
     },
     "execution_count": 8,
     "metadata": {},
     "output_type": "execute_result"
    }
   ],
   "source": [
    "df.isna().sum()"
   ]
  },
  {
   "cell_type": "code",
   "execution_count": 9,
   "id": "a052a809",
   "metadata": {},
   "outputs": [],
   "source": [
    "df = df.iloc[:,1:]"
   ]
  },
  {
   "cell_type": "code",
   "execution_count": 10,
   "id": "d0f58602",
   "metadata": {},
   "outputs": [],
   "source": [
    "from sklearn.preprocessing import LabelEncoder\n",
    "LE= LabelEncoder()\n",
    "df['Rape'] = LE.fit_transform(df['Rape'])"
   ]
  },
  {
   "cell_type": "code",
   "execution_count": 11,
   "id": "ce819af6",
   "metadata": {},
   "outputs": [
    {
     "data": {
      "text/plain": [
       "array([26, 46, 40, 21, 45, 44,  6, 13, 41, 33, 23, 10, 31, 25,  8, 19, 15,\n",
       "       28,  1, 37, 43, 11, 18, 38, 16, 17, 47,  4, 20, 42, 34, 14,  0, 27,\n",
       "       22, 39,  2, 29,  9, 36, 32, 30,  7, 24, 35,  3,  5, 12],\n",
       "      dtype=int64)"
      ]
     },
     "execution_count": 11,
     "metadata": {},
     "output_type": "execute_result"
    }
   ],
   "source": [
    "#df['Murder'].unique()\n",
    "#df['Assault'].unique()\n",
    "#df['UrbanPop'].unique()\n",
    "df['Rape'].unique()"
   ]
  },
  {
   "cell_type": "code",
   "execution_count": 12,
   "id": "3431c9d1",
   "metadata": {},
   "outputs": [
    {
     "data": {
      "text/html": [
       "<div>\n",
       "<style scoped>\n",
       "    .dataframe tbody tr th:only-of-type {\n",
       "        vertical-align: middle;\n",
       "    }\n",
       "\n",
       "    .dataframe tbody tr th {\n",
       "        vertical-align: top;\n",
       "    }\n",
       "\n",
       "    .dataframe thead th {\n",
       "        text-align: right;\n",
       "    }\n",
       "</style>\n",
       "<table border=\"1\" class=\"dataframe\">\n",
       "  <thead>\n",
       "    <tr style=\"text-align: right;\">\n",
       "      <th></th>\n",
       "      <th>Murder</th>\n",
       "      <th>Assault</th>\n",
       "      <th>UrbanPop</th>\n",
       "      <th>Rape</th>\n",
       "    </tr>\n",
       "  </thead>\n",
       "  <tbody>\n",
       "  </tbody>\n",
       "</table>\n",
       "</div>"
      ],
      "text/plain": [
       "Empty DataFrame\n",
       "Columns: [Murder, Assault, UrbanPop, Rape]\n",
       "Index: []"
      ]
     },
     "execution_count": 12,
     "metadata": {},
     "output_type": "execute_result"
    }
   ],
   "source": [
    "df[df.duplicated()]"
   ]
  },
  {
   "cell_type": "code",
   "execution_count": 13,
   "id": "8d1ef9b0",
   "metadata": {},
   "outputs": [
    {
     "data": {
      "text/html": [
       "<div>\n",
       "<style scoped>\n",
       "    .dataframe tbody tr th:only-of-type {\n",
       "        vertical-align: middle;\n",
       "    }\n",
       "\n",
       "    .dataframe tbody tr th {\n",
       "        vertical-align: top;\n",
       "    }\n",
       "\n",
       "    .dataframe thead th {\n",
       "        text-align: right;\n",
       "    }\n",
       "</style>\n",
       "<table border=\"1\" class=\"dataframe\">\n",
       "  <thead>\n",
       "    <tr style=\"text-align: right;\">\n",
       "      <th></th>\n",
       "      <th>Murder</th>\n",
       "      <th>Assault</th>\n",
       "      <th>UrbanPop</th>\n",
       "      <th>Rape</th>\n",
       "    </tr>\n",
       "  </thead>\n",
       "  <tbody>\n",
       "    <tr>\n",
       "      <th>Murder</th>\n",
       "      <td>1.000000</td>\n",
       "      <td>0.801873</td>\n",
       "      <td>0.069573</td>\n",
       "      <td>0.625828</td>\n",
       "    </tr>\n",
       "    <tr>\n",
       "      <th>Assault</th>\n",
       "      <td>0.801873</td>\n",
       "      <td>1.000000</td>\n",
       "      <td>0.258872</td>\n",
       "      <td>0.688542</td>\n",
       "    </tr>\n",
       "    <tr>\n",
       "      <th>UrbanPop</th>\n",
       "      <td>0.069573</td>\n",
       "      <td>0.258872</td>\n",
       "      <td>1.000000</td>\n",
       "      <td>0.438389</td>\n",
       "    </tr>\n",
       "    <tr>\n",
       "      <th>Rape</th>\n",
       "      <td>0.625828</td>\n",
       "      <td>0.688542</td>\n",
       "      <td>0.438389</td>\n",
       "      <td>1.000000</td>\n",
       "    </tr>\n",
       "  </tbody>\n",
       "</table>\n",
       "</div>"
      ],
      "text/plain": [
       "            Murder   Assault  UrbanPop      Rape\n",
       "Murder    1.000000  0.801873  0.069573  0.625828\n",
       "Assault   0.801873  1.000000  0.258872  0.688542\n",
       "UrbanPop  0.069573  0.258872  1.000000  0.438389\n",
       "Rape      0.625828  0.688542  0.438389  1.000000"
      ]
     },
     "execution_count": 13,
     "metadata": {},
     "output_type": "execute_result"
    }
   ],
   "source": [
    "# To check correlation\n",
    "df.corr()"
   ]
  },
  {
   "cell_type": "code",
   "execution_count": 14,
   "id": "0cbdacc0",
   "metadata": {},
   "outputs": [
    {
     "data": {
      "image/png": "[encoded data removed]",
      "text/plain": [
       "<Figure size 720x720 with 20 Axes>"
      ]
     },
     "metadata": {
      "needs_background": "light"
     },
     "output_type": "display_data"
    }
   ],
   "source": [
    "import seaborn as sns\n",
    "import matplotlib.pyplot as plt\n",
    "sns.pairplot(df)\n",
    "plt.show()"
   ]
  },
  {
   "cell_type": "markdown",
   "id": "9db1a7f9",
   "metadata": {},
   "source": [
    "# Hierarchy Clustering"
   ]
  },
  {
   "cell_type": "code",
   "execution_count": 15,
   "id": "8773bab6",
   "metadata": {},
   "outputs": [],
   "source": [
    "import scipy.cluster.hierarchy as sch\n",
    "from sklearn.cluster import AgglomerativeClustering"
   ]
  },
  {
   "cell_type": "code",
   "execution_count": 16,
   "id": "c96a847c",
   "metadata": {},
   "outputs": [],
   "source": [
    "# Normalization Function \n",
    "def norm_func(i):\n",
    "    x = (i - i.min())/(i.max()-i.min())\n",
    "    return(x)"
   ]
  },
  {
   "cell_type": "code",
   "execution_count": 17,
   "id": "6399cc7f",
   "metadata": {},
   "outputs": [
    {
     "data": {
      "text/html": [
       "<div>\n",
       "<style scoped>\n",
       "    .dataframe tbody tr th:only-of-type {\n",
       "        vertical-align: middle;\n",
       "    }\n",
       "\n",
       "    .dataframe tbody tr th {\n",
       "        vertical-align: top;\n",
       "    }\n",
       "\n",
       "    .dataframe thead th {\n",
       "        text-align: right;\n",
       "    }\n",
       "</style>\n",
       "<table border=\"1\" class=\"dataframe\">\n",
       "  <thead>\n",
       "    <tr style=\"text-align: right;\">\n",
       "      <th></th>\n",
       "      <th>Murder</th>\n",
       "      <th>Assault</th>\n",
       "      <th>UrbanPop</th>\n",
       "      <th>Rape</th>\n",
       "    </tr>\n",
       "  </thead>\n",
       "  <tbody>\n",
       "    <tr>\n",
       "      <th>0</th>\n",
       "      <td>0.746988</td>\n",
       "      <td>0.654110</td>\n",
       "      <td>0.440678</td>\n",
       "      <td>0.553191</td>\n",
       "    </tr>\n",
       "    <tr>\n",
       "      <th>1</th>\n",
       "      <td>0.554217</td>\n",
       "      <td>0.746575</td>\n",
       "      <td>0.271186</td>\n",
       "      <td>0.978723</td>\n",
       "    </tr>\n",
       "    <tr>\n",
       "      <th>2</th>\n",
       "      <td>0.439759</td>\n",
       "      <td>0.852740</td>\n",
       "      <td>0.813559</td>\n",
       "      <td>0.851064</td>\n",
       "    </tr>\n",
       "    <tr>\n",
       "      <th>3</th>\n",
       "      <td>0.481928</td>\n",
       "      <td>0.496575</td>\n",
       "      <td>0.305085</td>\n",
       "      <td>0.446809</td>\n",
       "    </tr>\n",
       "    <tr>\n",
       "      <th>4</th>\n",
       "      <td>0.493976</td>\n",
       "      <td>0.791096</td>\n",
       "      <td>1.000000</td>\n",
       "      <td>0.957447</td>\n",
       "    </tr>\n",
       "  </tbody>\n",
       "</table>\n",
       "</div>"
      ],
      "text/plain": [
       "     Murder   Assault  UrbanPop      Rape\n",
       "0  0.746988  0.654110  0.440678  0.553191\n",
       "1  0.554217  0.746575  0.271186  0.978723\n",
       "2  0.439759  0.852740  0.813559  0.851064\n",
       "3  0.481928  0.496575  0.305085  0.446809\n",
       "4  0.493976  0.791096  1.000000  0.957447"
      ]
     },
     "execution_count": 17,
     "metadata": {},
     "output_type": "execute_result"
    }
   ],
   "source": [
    "# Normalize data frame (Considering the numerical part of data)\n",
    "df_norm = norm_func(df.iloc[:,0:])\n",
    "df_norm.head()"
   ]
  },
  {
   "cell_type": "code",
   "execution_count": 18,
   "id": "6f80d96a",
   "metadata": {},
   "outputs": [
    {
     "data": {
      "image/png": "[encoded data removed]",
      "text/plain": [
       "<Figure size 432x288 with 1 Axes>"
      ]
     },
     "metadata": {
      "needs_background": "light"
     },
     "output_type": "display_data"
    }
   ],
   "source": [
    "# Create Dendrogram\n",
    "import scipy.cluster.hierarchy as sch\n",
    "dendrogram = sch.dendrogram(sch.linkage(df_norm, method = 'complete'))"
   ]
  },
  {
   "cell_type": "code",
   "execution_count": 19,
   "id": "c6b9b1f0",
   "metadata": {},
   "outputs": [],
   "source": [
    "# Create Clusters\n",
    "from sklearn.cluster import AgglomerativeClustering\n",
    "hc = AgglomerativeClustering(n_clusters = 5, affinity = 'euclidean', linkage = 'complete')"
   ]
  },
  {
   "cell_type": "code",
   "execution_count": 20,
   "id": "5dffb242",
   "metadata": {},
   "outputs": [
    {
     "data": {
      "text/plain": [
       "AgglomerativeClustering(linkage='complete', n_clusters=5)"
      ]
     },
     "execution_count": 20,
     "metadata": {},
     "output_type": "execute_result"
    }
   ],
   "source": [
    "hc.fit(df_norm)"
   ]
  },
  {
   "cell_type": "code",
   "execution_count": 21,
   "id": "cf94eceb",
   "metadata": {},
   "outputs": [
    {
     "data": {
      "text/plain": [
       "array([1, 1, 3, 0, 3, 4, 0, 0, 3, 1, 0, 0, 3, 0, 0, 0, 0, 1, 2, 3, 0, 3,\n",
       "       0, 1, 4, 0, 0, 3, 0, 0, 3, 3, 1, 2, 0, 0, 4, 0, 0, 1, 2, 1, 3, 0,\n",
       "       2, 0, 4, 2, 0, 0], dtype=int64)"
      ]
     },
     "execution_count": 21,
     "metadata": {},
     "output_type": "execute_result"
    }
   ],
   "source": [
    "# Save cluster for chart\n",
    "y_hc = hc.fit_predict(df_norm)\n",
    "y_hc"
   ]
  },
  {
   "cell_type": "code",
   "execution_count": 22,
   "id": "d86e29ac",
   "metadata": {},
   "outputs": [],
   "source": [
    "df['h_clusterid'] = y_hc"
   ]
  },
  {
   "cell_type": "code",
   "execution_count": 23,
   "id": "4577da0e",
   "metadata": {},
   "outputs": [
    {
     "data": {
      "text/html": [
       "<div>\n",
       "<style scoped>\n",
       "    .dataframe tbody tr th:only-of-type {\n",
       "        vertical-align: middle;\n",
       "    }\n",
       "\n",
       "    .dataframe tbody tr th {\n",
       "        vertical-align: top;\n",
       "    }\n",
       "\n",
       "    .dataframe thead th {\n",
       "        text-align: right;\n",
       "    }\n",
       "</style>\n",
       "<table border=\"1\" class=\"dataframe\">\n",
       "  <thead>\n",
       "    <tr style=\"text-align: right;\">\n",
       "      <th></th>\n",
       "      <th>Murder</th>\n",
       "      <th>h_clusterid</th>\n",
       "    </tr>\n",
       "  </thead>\n",
       "  <tbody>\n",
       "    <tr>\n",
       "      <th>49</th>\n",
       "      <td>6.8</td>\n",
       "      <td>0</td>\n",
       "    </tr>\n",
       "    <tr>\n",
       "      <th>26</th>\n",
       "      <td>4.3</td>\n",
       "      <td>0</td>\n",
       "    </tr>\n",
       "    <tr>\n",
       "      <th>22</th>\n",
       "      <td>2.7</td>\n",
       "      <td>0</td>\n",
       "    </tr>\n",
       "    <tr>\n",
       "      <th>28</th>\n",
       "      <td>2.1</td>\n",
       "      <td>0</td>\n",
       "    </tr>\n",
       "    <tr>\n",
       "      <th>20</th>\n",
       "      <td>4.4</td>\n",
       "      <td>0</td>\n",
       "    </tr>\n",
       "  </tbody>\n",
       "</table>\n",
       "</div>"
      ],
      "text/plain": [
       "    Murder  h_clusterid\n",
       "49     6.8            0\n",
       "26     4.3            0\n",
       "22     2.7            0\n",
       "28     2.1            0\n",
       "20     4.4            0"
      ]
     },
     "execution_count": 23,
     "metadata": {},
     "output_type": "execute_result"
    }
   ],
   "source": [
    "df1 = df.sort_values(\"h_clusterid\")\n",
    "df1.iloc[:,[0,-1]].head()"
   ]
  },
  {
   "cell_type": "code",
   "execution_count": 24,
   "id": "375dd8d3",
   "metadata": {},
   "outputs": [
    {
     "data": {
      "text/plain": [
       "array([1, 3, 0, 4, 2], dtype=int64)"
      ]
     },
     "execution_count": 24,
     "metadata": {},
     "output_type": "execute_result"
    }
   ],
   "source": [
    "df['h_clusterid'].unique()"
   ]
  },
  {
   "cell_type": "code",
   "execution_count": 25,
   "id": "dcb4e345",
   "metadata": {},
   "outputs": [
    {
     "data": {
      "image/png": "[encoded data removed]",
      "text/plain": [
       "<Figure size 432x288 with 1 Axes>"
      ]
     },
     "metadata": {
      "needs_background": "light"
     },
     "output_type": "display_data"
    }
   ],
   "source": [
    "import matplotlib.pyplot as plt\n",
    "plt.hist(df['h_clusterid'])\n",
    "plt.show()"
   ]
  },
  {
   "cell_type": "markdown",
   "id": "126fdd36",
   "metadata": {},
   "source": [
    "# K_Means Clustering"
   ]
  },
  {
   "cell_type": "code",
   "execution_count": 26,
   "id": "20e0bdc1",
   "metadata": {},
   "outputs": [],
   "source": [
    "from sklearn.cluster import KMeans\n",
    "from sklearn.preprocessing import StandardScaler"
   ]
  },
  {
   "cell_type": "code",
   "execution_count": 27,
   "id": "3c0ef3e5",
   "metadata": {},
   "outputs": [],
   "source": [
    "#standardized Dataset using scale\n",
    "array = df.values"
   ]
  },
  {
   "cell_type": "code",
   "execution_count": 28,
   "id": "84e06f11",
   "metadata": {},
   "outputs": [
    {
     "data": {
      "text/plain": [
       "array([[ 1.25517927,  0.79078716, -0.52619514,  0.21260493, -0.19791075],\n",
       "       [ 0.51301858,  1.11805959, -1.22406668,  1.66880306, -0.19791075],\n",
       "       [ 0.07236067,  1.49381682,  1.00912225,  1.23194362,  1.21573747],\n",
       "       [ 0.23470832,  0.23321191, -1.08449238, -0.15144461, -0.90473486],\n",
       "       [ 0.28109336,  1.2756352 ,  1.77678094,  1.59599315,  1.21573747],\n",
       "       [ 0.02597562,  0.40290872,  0.86954794,  1.52318324,  1.92256157],\n",
       "       [-1.04088037, -0.73648418,  0.79976079, -1.2435932 , -0.90473486],\n",
       "       [-0.43787481,  0.81502956,  0.45082502, -0.73392386, -0.90473486],\n",
       "       [ 1.76541475,  1.99078607,  1.00912225,  1.30475352,  1.21573747],\n",
       "       [ 2.22926518,  0.48775713, -0.38662083,  0.72227427, -0.19791075],\n",
       "       [-0.57702994, -1.51224105,  1.21848371, -0.00582479, -0.90473486],\n",
       "       [-1.20322802, -0.61527217, -0.80534376, -0.95235358, -0.90473486],\n",
       "       [ 0.60578867,  0.94836277,  1.21848371,  0.57665446,  1.21573747],\n",
       "       [-0.13637203, -0.70012057, -0.03768506,  0.13979502, -0.90473486],\n",
       "       [-1.29599811, -1.39102904, -0.5959823 , -1.09797339, -0.90473486],\n",
       "       [-0.41468229, -0.67587817,  0.03210209, -0.29706442, -0.90473486],\n",
       "       [ 0.44344101, -0.74860538, -0.94491807, -0.58830404, -0.90473486],\n",
       "       [ 1.76541475,  0.94836277,  0.03210209,  0.35822474, -0.19791075],\n",
       "       [-1.31919063, -1.06375661, -1.01470522, -1.60764274,  0.50891336],\n",
       "       [ 0.81452136,  1.56654403,  0.10188925,  1.0135139 ,  1.21573747],\n",
       "       [-0.78576263, -0.26375734,  1.35805802, -0.58830404, -0.90473486],\n",
       "       [ 1.00006153,  1.02108998,  0.59039932,  1.45037334,  1.21573747],\n",
       "       [-1.1800355 , -1.19708982,  0.03210209, -0.87954367, -0.90473486],\n",
       "       [ 1.9277624 ,  1.06957478, -1.5032153 , -0.36987433, -0.19791075],\n",
       "       [ 0.28109336,  0.0877575 ,  0.31125071,  1.08632381,  1.92256157],\n",
       "       [-0.41468229, -0.74860538, -0.87513091, -0.51549414, -0.90473486],\n",
       "       [-0.80895515, -0.83345379, -0.24704653, -0.44268423, -0.90473486],\n",
       "       [ 1.02325405,  0.98472638,  1.0789094 ,  1.74161296,  1.21573747],\n",
       "       [-1.31919063, -1.37890783, -0.66576945, -1.38921302, -0.90473486],\n",
       "       [-0.08998698, -0.14254532,  1.63720664, -0.22425451, -0.90473486],\n",
       "       [ 0.83771388,  1.38472601,  0.31125071,  1.37756343,  1.21573747],\n",
       "       [ 0.76813632,  1.00896878,  1.42784517,  0.79508418,  1.21573747],\n",
       "       [ 1.20879423,  2.01502847, -1.43342815, -0.66111395, -0.19791075],\n",
       "       [-1.62069341, -1.52436225, -1.5032153 , -1.68045264,  0.50891336],\n",
       "       [-0.11317951, -0.61527217,  0.66018648,  0.28541483, -0.90473486],\n",
       "       [-0.27552716, -0.23951493,  0.1716764 , -0.0786347 , -0.90473486],\n",
       "       [-0.66980002, -0.14254532,  0.10188925,  1.15913371,  1.92256157],\n",
       "       [-0.34510472, -0.78496898,  0.45082502, -0.87954367, -0.90473486],\n",
       "       [-1.01768785,  0.03927269,  1.49763233, -1.53483283, -0.90473486],\n",
       "       [ 1.53348953,  1.3119988 , -1.22406668,  0.43103465, -0.19791075],\n",
       "       [-0.92491776, -1.027393  , -1.43342815, -1.02516348,  0.50891336],\n",
       "       [ 1.25517927,  0.20896951, -0.45640799,  0.94070399, -0.19791075],\n",
       "       [ 1.13921666,  0.36654512,  1.00912225,  0.64946437,  1.21573747],\n",
       "       [-1.06407289, -0.61527217,  1.00912225,  0.50384455, -0.90473486],\n",
       "       [-1.29599811, -1.48799864, -2.34066115, -1.1707833 ,  0.50891336],\n",
       "       [ 0.16513075, -0.17890893, -0.17725937,  0.06698511, -0.90473486],\n",
       "       [-0.87853272, -0.31224214,  0.52061217,  0.86789409,  1.92256157],\n",
       "       [-0.48425985, -1.08799901, -1.85215107, -1.46202292,  0.50891336],\n",
       "       [-1.20322802, -1.42739264,  0.03210209, -1.31640311, -0.90473486],\n",
       "       [-0.22914211, -0.11830292, -0.38662083, -0.80673376, -0.90473486]])"
      ]
     },
     "execution_count": 28,
     "metadata": {},
     "output_type": "execute_result"
    }
   ],
   "source": [
    "from sklearn.preprocessing import scale\n",
    "scaled = scale(array)\n",
    "scaled"
   ]
  },
  {
   "cell_type": "code",
   "execution_count": 29,
   "id": "dbf87860",
   "metadata": {},
   "outputs": [
    {
     "data": {
      "text/plain": [
       "array([[ 0.79078716, -0.52619514,  0.21260493, -0.19791075],\n",
       "       [ 1.11805959, -1.22406668,  1.66880306, -0.19791075],\n",
       "       [ 1.49381682,  1.00912225,  1.23194362,  1.21573747],\n",
       "       [ 0.23321191, -1.08449238, -0.15144461, -0.90473486],\n",
       "       [ 1.2756352 ,  1.77678094,  1.59599315,  1.21573747],\n",
       "       [ 0.40290872,  0.86954794,  1.52318324,  1.92256157],\n",
       "       [-0.73648418,  0.79976079, -1.2435932 , -0.90473486],\n",
       "       [ 0.81502956,  0.45082502, -0.73392386, -0.90473486],\n",
       "       [ 1.99078607,  1.00912225,  1.30475352,  1.21573747],\n",
       "       [ 0.48775713, -0.38662083,  0.72227427, -0.19791075],\n",
       "       [-1.51224105,  1.21848371, -0.00582479, -0.90473486],\n",
       "       [-0.61527217, -0.80534376, -0.95235358, -0.90473486],\n",
       "       [ 0.94836277,  1.21848371,  0.57665446,  1.21573747],\n",
       "       [-0.70012057, -0.03768506,  0.13979502, -0.90473486],\n",
       "       [-1.39102904, -0.5959823 , -1.09797339, -0.90473486],\n",
       "       [-0.67587817,  0.03210209, -0.29706442, -0.90473486],\n",
       "       [-0.74860538, -0.94491807, -0.58830404, -0.90473486],\n",
       "       [ 0.94836277,  0.03210209,  0.35822474, -0.19791075],\n",
       "       [-1.06375661, -1.01470522, -1.60764274,  0.50891336],\n",
       "       [ 1.56654403,  0.10188925,  1.0135139 ,  1.21573747],\n",
       "       [-0.26375734,  1.35805802, -0.58830404, -0.90473486],\n",
       "       [ 1.02108998,  0.59039932,  1.45037334,  1.21573747],\n",
       "       [-1.19708982,  0.03210209, -0.87954367, -0.90473486],\n",
       "       [ 1.06957478, -1.5032153 , -0.36987433, -0.19791075],\n",
       "       [ 0.0877575 ,  0.31125071,  1.08632381,  1.92256157],\n",
       "       [-0.74860538, -0.87513091, -0.51549414, -0.90473486],\n",
       "       [-0.83345379, -0.24704653, -0.44268423, -0.90473486],\n",
       "       [ 0.98472638,  1.0789094 ,  1.74161296,  1.21573747],\n",
       "       [-1.37890783, -0.66576945, -1.38921302, -0.90473486],\n",
       "       [-0.14254532,  1.63720664, -0.22425451, -0.90473486],\n",
       "       [ 1.38472601,  0.31125071,  1.37756343,  1.21573747],\n",
       "       [ 1.00896878,  1.42784517,  0.79508418,  1.21573747],\n",
       "       [ 2.01502847, -1.43342815, -0.66111395, -0.19791075],\n",
       "       [-1.52436225, -1.5032153 , -1.68045264,  0.50891336],\n",
       "       [-0.61527217,  0.66018648,  0.28541483, -0.90473486],\n",
       "       [-0.23951493,  0.1716764 , -0.0786347 , -0.90473486],\n",
       "       [-0.14254532,  0.10188925,  1.15913371,  1.92256157],\n",
       "       [-0.78496898,  0.45082502, -0.87954367, -0.90473486],\n",
       "       [ 0.03927269,  1.49763233, -1.53483283, -0.90473486],\n",
       "       [ 1.3119988 , -1.22406668,  0.43103465, -0.19791075],\n",
       "       [-1.027393  , -1.43342815, -1.02516348,  0.50891336],\n",
       "       [ 0.20896951, -0.45640799,  0.94070399, -0.19791075],\n",
       "       [ 0.36654512,  1.00912225,  0.64946437,  1.21573747],\n",
       "       [-0.61527217,  1.00912225,  0.50384455, -0.90473486],\n",
       "       [-1.48799864, -2.34066115, -1.1707833 ,  0.50891336],\n",
       "       [-0.17890893, -0.17725937,  0.06698511, -0.90473486],\n",
       "       [-0.31224214,  0.52061217,  0.86789409,  1.92256157],\n",
       "       [-1.08799901, -1.85215107, -1.46202292,  0.50891336],\n",
       "       [-1.42739264,  0.03210209, -1.31640311, -0.90473486],\n",
       "       [-0.11830292, -0.38662083, -0.80673376, -0.90473486]])"
      ]
     },
     "execution_count": 29,
     "metadata": {},
     "output_type": "execute_result"
    }
   ],
   "source": [
    "# Standardization of data\n",
    "scaler = StandardScaler()\n",
    "scaled_df = scaler.fit_transform(df.iloc[:,1:])\n",
    "scaled_df"
   ]
  },
  {
   "cell_type": "code",
   "execution_count": 30,
   "id": "b7ef4b10",
   "metadata": {},
   "outputs": [
    {
     "data": {
      "text/plain": [
       "49.85143398584086"
      ]
     },
     "execution_count": 30,
     "metadata": {},
     "output_type": "execute_result"
    }
   ],
   "source": [
    "kmeans = KMeans(n_clusters = 4, random_state = 0)\n",
    "kmeans.fit(scaled_df)\n",
    "kmeans.inertia_"
   ]
  },
  {
   "cell_type": "code",
   "execution_count": 31,
   "id": "e41d6b1e",
   "metadata": {},
   "outputs": [
    {
     "name": "stderr",
     "output_type": "stream",
     "text": [
      "C:\\Users\\ADMIN\\anaconda3\\lib\\site-packages\\sklearn\\cluster\\_kmeans.py:1036: UserWarning: KMeans is known to have a memory leak on Windows with MKL, when there are less chunks than available threads. You can avoid it by setting the environment variable OMP_NUM_THREADS=1.\n",
      "  warnings.warn(\n"
     ]
    },
    {
     "data": {
      "image/png": "[encoded data removed]",
      "text/plain": [
       "<Figure size 432x288 with 1 Axes>"
      ]
     },
     "metadata": {
      "needs_background": "light"
     },
     "output_type": "display_data"
    }
   ],
   "source": [
    "wcss = []\n",
    "for i in range (1,11):\n",
    "    kmeans = KMeans(n_clusters = i, random_state = 0)\n",
    "    kmeans.fit(scaled_df)\n",
    "    wcss.append(kmeans.inertia_)\n",
    "plt.plot(range(1,11), wcss)\n",
    "plt.title(\"Elbow Method\")\n",
    "plt.xlabel(\"Number of clusters\")\n",
    "plt.ylabel(\"wcss\")\n",
    "plt.show()"
   ]
  },
  {
   "cell_type": "code",
   "execution_count": 32,
   "id": "54136e5d",
   "metadata": {},
   "outputs": [
    {
     "data": {
      "text/plain": [
       "[200.0,\n",
       " 105.90447880716356,\n",
       " 76.18348683774381,\n",
       " 49.85143398584086,\n",
       " 39.53074532743696,\n",
       " 33.17109645832079,\n",
       " 28.321193926881833,\n",
       " 24.444292555891373,\n",
       " 21.726289210700042,\n",
       " 19.756412368152958]"
      ]
     },
     "execution_count": 32,
     "metadata": {},
     "output_type": "execute_result"
    }
   ],
   "source": [
    "wcss"
   ]
  },
  {
   "cell_type": "code",
   "execution_count": 33,
   "id": "6f89dfa8",
   "metadata": {},
   "outputs": [
    {
     "data": {
      "text/plain": [
       "KMeans(n_clusters=4, random_state=42)"
      ]
     },
     "execution_count": 33,
     "metadata": {},
     "output_type": "execute_result"
    }
   ],
   "source": [
    "# Build Cluster Algorithm\n",
    "cluster_new = KMeans(4, random_state = 42)\n",
    "cluster_new.fit(scaled_df)"
   ]
  },
  {
   "cell_type": "code",
   "execution_count": 34,
   "id": "300d5ef8",
   "metadata": {},
   "outputs": [
    {
     "data": {
      "text/plain": [
       "array([1, 1, 2, 1, 2, 2, 0, 0, 2, 1, 0, 3, 2, 0, 3, 0, 3, 1, 3, 2, 0, 2,\n",
       "       0, 1, 2, 3, 0, 2, 3, 0, 2, 2, 1, 3, 0, 0, 2, 0, 0, 1, 3, 1, 2, 0,\n",
       "       3, 0, 2, 3, 0, 0])"
      ]
     },
     "execution_count": 34,
     "metadata": {},
     "output_type": "execute_result"
    }
   ],
   "source": [
    "cluster_new.labels_"
   ]
  },
  {
   "cell_type": "code",
   "execution_count": 35,
   "id": "76965c8f",
   "metadata": {},
   "outputs": [
    {
     "data": {
      "text/plain": [
       "array([[-0.54040592,  0.50008654, -0.47266478, -0.90473486],\n",
       "       [ 0.90930557, -0.86737678,  0.35013475, -0.27644676],\n",
       "       [ 0.86264856,  0.80973038,  1.16953513,  1.41768721],\n",
       "       [-1.10739293, -1.20313054, -1.14894032, -0.19791075]])"
      ]
     },
     "execution_count": 35,
     "metadata": {},
     "output_type": "execute_result"
    }
   ],
   "source": [
    "# Assign Cluster to the dataset\n",
    "df['clusterid_new'] = cluster_new.labels_\n",
    "cluster_new.cluster_centers_  # these are standardized value"
   ]
  },
  {
   "cell_type": "code",
   "execution_count": 36,
   "id": "a7aa319d",
   "metadata": {},
   "outputs": [
    {
     "data": {
      "text/html": [
       "<div>\n",
       "<style scoped>\n",
       "    .dataframe tbody tr th:only-of-type {\n",
       "        vertical-align: middle;\n",
       "    }\n",
       "\n",
       "    .dataframe tbody tr th {\n",
       "        vertical-align: top;\n",
       "    }\n",
       "\n",
       "    .dataframe thead tr th {\n",
       "        text-align: left;\n",
       "    }\n",
       "</style>\n",
       "<table border=\"1\" class=\"dataframe\">\n",
       "  <thead>\n",
       "    <tr>\n",
       "      <th></th>\n",
       "      <th>clusterid_new</th>\n",
       "      <th>Murder</th>\n",
       "      <th>Assault</th>\n",
       "      <th>UrbanPop</th>\n",
       "      <th>Rape</th>\n",
       "      <th>h_clusterid</th>\n",
       "    </tr>\n",
       "    <tr>\n",
       "      <th></th>\n",
       "      <th></th>\n",
       "      <th>mean</th>\n",
       "      <th>mean</th>\n",
       "      <th>mean</th>\n",
       "      <th>mean</th>\n",
       "      <th>mean</th>\n",
       "    </tr>\n",
       "  </thead>\n",
       "  <tbody>\n",
       "    <tr>\n",
       "      <th>0</th>\n",
       "      <td>0</td>\n",
       "      <td>5.364706</td>\n",
       "      <td>126.176471</td>\n",
       "      <td>72.705882</td>\n",
       "      <td>16.588235</td>\n",
       "      <td>0.000000</td>\n",
       "    </tr>\n",
       "    <tr>\n",
       "      <th>1</th>\n",
       "      <td>1</td>\n",
       "      <td>13.500000</td>\n",
       "      <td>245.777778</td>\n",
       "      <td>53.111111</td>\n",
       "      <td>27.888889</td>\n",
       "      <td>0.888889</td>\n",
       "    </tr>\n",
       "    <tr>\n",
       "      <th>2</th>\n",
       "      <td>2</td>\n",
       "      <td>9.964286</td>\n",
       "      <td>241.928571</td>\n",
       "      <td>77.142857</td>\n",
       "      <td>39.142857</td>\n",
       "      <td>3.285714</td>\n",
       "    </tr>\n",
       "    <tr>\n",
       "      <th>3</th>\n",
       "      <td>3</td>\n",
       "      <td>3.720000</td>\n",
       "      <td>79.400000</td>\n",
       "      <td>48.300000</td>\n",
       "      <td>7.300000</td>\n",
       "      <td>1.000000</td>\n",
       "    </tr>\n",
       "  </tbody>\n",
       "</table>\n",
       "</div>"
      ],
      "text/plain": [
       "  clusterid_new     Murder     Assault   UrbanPop       Rape h_clusterid\n",
       "                      mean        mean       mean       mean        mean\n",
       "0             0   5.364706  126.176471  72.705882  16.588235    0.000000\n",
       "1             1  13.500000  245.777778  53.111111  27.888889    0.888889\n",
       "2             2   9.964286  241.928571  77.142857  39.142857    3.285714\n",
       "3             3   3.720000   79.400000  48.300000   7.300000    1.000000"
      ]
     },
     "execution_count": 36,
     "metadata": {},
     "output_type": "execute_result"
    }
   ],
   "source": [
    "df.groupby('clusterid_new').agg(['mean']).reset_index()"
   ]
  },
  {
   "cell_type": "code",
   "execution_count": 37,
   "id": "38080654",
   "metadata": {},
   "outputs": [
    {
     "data": {
      "text/html": [
       "<div>\n",
       "<style scoped>\n",
       "    .dataframe tbody tr th:only-of-type {\n",
       "        vertical-align: middle;\n",
       "    }\n",
       "\n",
       "    .dataframe tbody tr th {\n",
       "        vertical-align: top;\n",
       "    }\n",
       "\n",
       "    .dataframe thead th {\n",
       "        text-align: right;\n",
       "    }\n",
       "</style>\n",
       "<table border=\"1\" class=\"dataframe\">\n",
       "  <thead>\n",
       "    <tr style=\"text-align: right;\">\n",
       "      <th></th>\n",
       "      <th>Murder</th>\n",
       "      <th>Assault</th>\n",
       "      <th>UrbanPop</th>\n",
       "      <th>Rape</th>\n",
       "      <th>h_clusterid</th>\n",
       "      <th>clusterid_new</th>\n",
       "    </tr>\n",
       "  </thead>\n",
       "  <tbody>\n",
       "    <tr>\n",
       "      <th>11</th>\n",
       "      <td>2.6</td>\n",
       "      <td>120</td>\n",
       "      <td>54</td>\n",
       "      <td>10</td>\n",
       "      <td>0</td>\n",
       "      <td>3</td>\n",
       "    </tr>\n",
       "    <tr>\n",
       "      <th>14</th>\n",
       "      <td>2.2</td>\n",
       "      <td>56</td>\n",
       "      <td>57</td>\n",
       "      <td>8</td>\n",
       "      <td>0</td>\n",
       "      <td>3</td>\n",
       "    </tr>\n",
       "    <tr>\n",
       "      <th>16</th>\n",
       "      <td>9.7</td>\n",
       "      <td>109</td>\n",
       "      <td>52</td>\n",
       "      <td>15</td>\n",
       "      <td>0</td>\n",
       "      <td>3</td>\n",
       "    </tr>\n",
       "    <tr>\n",
       "      <th>18</th>\n",
       "      <td>2.1</td>\n",
       "      <td>83</td>\n",
       "      <td>51</td>\n",
       "      <td>1</td>\n",
       "      <td>2</td>\n",
       "      <td>3</td>\n",
       "    </tr>\n",
       "    <tr>\n",
       "      <th>25</th>\n",
       "      <td>6.0</td>\n",
       "      <td>109</td>\n",
       "      <td>53</td>\n",
       "      <td>16</td>\n",
       "      <td>0</td>\n",
       "      <td>3</td>\n",
       "    </tr>\n",
       "    <tr>\n",
       "      <th>28</th>\n",
       "      <td>2.1</td>\n",
       "      <td>57</td>\n",
       "      <td>56</td>\n",
       "      <td>4</td>\n",
       "      <td>0</td>\n",
       "      <td>3</td>\n",
       "    </tr>\n",
       "    <tr>\n",
       "      <th>33</th>\n",
       "      <td>0.8</td>\n",
       "      <td>45</td>\n",
       "      <td>44</td>\n",
       "      <td>0</td>\n",
       "      <td>2</td>\n",
       "      <td>3</td>\n",
       "    </tr>\n",
       "    <tr>\n",
       "      <th>40</th>\n",
       "      <td>3.8</td>\n",
       "      <td>86</td>\n",
       "      <td>45</td>\n",
       "      <td>9</td>\n",
       "      <td>2</td>\n",
       "      <td>3</td>\n",
       "    </tr>\n",
       "    <tr>\n",
       "      <th>44</th>\n",
       "      <td>2.2</td>\n",
       "      <td>48</td>\n",
       "      <td>32</td>\n",
       "      <td>7</td>\n",
       "      <td>2</td>\n",
       "      <td>3</td>\n",
       "    </tr>\n",
       "    <tr>\n",
       "      <th>47</th>\n",
       "      <td>5.7</td>\n",
       "      <td>81</td>\n",
       "      <td>39</td>\n",
       "      <td>3</td>\n",
       "      <td>2</td>\n",
       "      <td>3</td>\n",
       "    </tr>\n",
       "  </tbody>\n",
       "</table>\n",
       "</div>"
      ],
      "text/plain": [
       "    Murder  Assault  UrbanPop  Rape  h_clusterid  clusterid_new\n",
       "11     2.6      120        54    10            0              3\n",
       "14     2.2       56        57     8            0              3\n",
       "16     9.7      109        52    15            0              3\n",
       "18     2.1       83        51     1            2              3\n",
       "25     6.0      109        53    16            0              3\n",
       "28     2.1       57        56     4            0              3\n",
       "33     0.8       45        44     0            2              3\n",
       "40     3.8       86        45     9            2              3\n",
       "44     2.2       48        32     7            2              3\n",
       "47     5.7       81        39     3            2              3"
      ]
     },
     "execution_count": 37,
     "metadata": {},
     "output_type": "execute_result"
    }
   ],
   "source": [
    "df[df['clusterid_new'] == 3]\n",
    "#df[df['clusterid_new'] == 0]"
   ]
  },
  {
   "cell_type": "markdown",
   "id": "b5bff80a",
   "metadata": {},
   "source": [
    "# DBSCAN : Density Base Scan"
   ]
  },
  {
   "cell_type": "code",
   "execution_count": 38,
   "id": "107b5d04",
   "metadata": {},
   "outputs": [],
   "source": [
    "from sklearn.cluster import DBSCAN\n",
    "from sklearn.preprocessing import StandardScaler"
   ]
  },
  {
   "cell_type": "code",
   "execution_count": 39,
   "id": "407cc1e0",
   "metadata": {},
   "outputs": [],
   "source": [
    "array = df.values"
   ]
  },
  {
   "cell_type": "code",
   "execution_count": 40,
   "id": "5c0708a9",
   "metadata": {},
   "outputs": [
    {
     "data": {
      "text/plain": [
       "array([[ 1.25517927,  0.79078716, -0.52619514,  0.21260493, -0.19791075,\n",
       "        -0.29769636],\n",
       "       [ 0.51301858,  1.11805959, -1.22406668,  1.66880306, -0.19791075,\n",
       "        -0.29769636],\n",
       "       [ 0.07236067,  1.49381682,  1.00912225,  1.23194362,  1.21573747,\n",
       "         0.57788117],\n",
       "       [ 0.23470832,  0.23321191, -1.08449238, -0.15144461, -0.90473486,\n",
       "        -0.29769636],\n",
       "       [ 0.28109336,  1.2756352 ,  1.77678094,  1.59599315,  1.21573747,\n",
       "         0.57788117],\n",
       "       [ 0.02597562,  0.40290872,  0.86954794,  1.52318324,  1.92256157,\n",
       "         0.57788117],\n",
       "       [-1.04088037, -0.73648418,  0.79976079, -1.2435932 , -0.90473486,\n",
       "        -1.17327388],\n",
       "       [-0.43787481,  0.81502956,  0.45082502, -0.73392386, -0.90473486,\n",
       "        -1.17327388],\n",
       "       [ 1.76541475,  1.99078607,  1.00912225,  1.30475352,  1.21573747,\n",
       "         0.57788117],\n",
       "       [ 2.22926518,  0.48775713, -0.38662083,  0.72227427, -0.19791075,\n",
       "        -0.29769636],\n",
       "       [-0.57702994, -1.51224105,  1.21848371, -0.00582479, -0.90473486,\n",
       "        -1.17327388],\n",
       "       [-1.20322802, -0.61527217, -0.80534376, -0.95235358, -0.90473486,\n",
       "         1.45345869],\n",
       "       [ 0.60578867,  0.94836277,  1.21848371,  0.57665446,  1.21573747,\n",
       "         0.57788117],\n",
       "       [-0.13637203, -0.70012057, -0.03768506,  0.13979502, -0.90473486,\n",
       "        -1.17327388],\n",
       "       [-1.29599811, -1.39102904, -0.5959823 , -1.09797339, -0.90473486,\n",
       "         1.45345869],\n",
       "       [-0.41468229, -0.67587817,  0.03210209, -0.29706442, -0.90473486,\n",
       "        -1.17327388],\n",
       "       [ 0.44344101, -0.74860538, -0.94491807, -0.58830404, -0.90473486,\n",
       "         1.45345869],\n",
       "       [ 1.76541475,  0.94836277,  0.03210209,  0.35822474, -0.19791075,\n",
       "        -0.29769636],\n",
       "       [-1.31919063, -1.06375661, -1.01470522, -1.60764274,  0.50891336,\n",
       "         1.45345869],\n",
       "       [ 0.81452136,  1.56654403,  0.10188925,  1.0135139 ,  1.21573747,\n",
       "         0.57788117],\n",
       "       [-0.78576263, -0.26375734,  1.35805802, -0.58830404, -0.90473486,\n",
       "        -1.17327388],\n",
       "       [ 1.00006153,  1.02108998,  0.59039932,  1.45037334,  1.21573747,\n",
       "         0.57788117],\n",
       "       [-1.1800355 , -1.19708982,  0.03210209, -0.87954367, -0.90473486,\n",
       "        -1.17327388],\n",
       "       [ 1.9277624 ,  1.06957478, -1.5032153 , -0.36987433, -0.19791075,\n",
       "        -0.29769636],\n",
       "       [ 0.28109336,  0.0877575 ,  0.31125071,  1.08632381,  1.92256157,\n",
       "         0.57788117],\n",
       "       [-0.41468229, -0.74860538, -0.87513091, -0.51549414, -0.90473486,\n",
       "         1.45345869],\n",
       "       [-0.80895515, -0.83345379, -0.24704653, -0.44268423, -0.90473486,\n",
       "        -1.17327388],\n",
       "       [ 1.02325405,  0.98472638,  1.0789094 ,  1.74161296,  1.21573747,\n",
       "         0.57788117],\n",
       "       [-1.31919063, -1.37890783, -0.66576945, -1.38921302, -0.90473486,\n",
       "         1.45345869],\n",
       "       [-0.08998698, -0.14254532,  1.63720664, -0.22425451, -0.90473486,\n",
       "        -1.17327388],\n",
       "       [ 0.83771388,  1.38472601,  0.31125071,  1.37756343,  1.21573747,\n",
       "         0.57788117],\n",
       "       [ 0.76813632,  1.00896878,  1.42784517,  0.79508418,  1.21573747,\n",
       "         0.57788117],\n",
       "       [ 1.20879423,  2.01502847, -1.43342815, -0.66111395, -0.19791075,\n",
       "        -0.29769636],\n",
       "       [-1.62069341, -1.52436225, -1.5032153 , -1.68045264,  0.50891336,\n",
       "         1.45345869],\n",
       "       [-0.11317951, -0.61527217,  0.66018648,  0.28541483, -0.90473486,\n",
       "        -1.17327388],\n",
       "       [-0.27552716, -0.23951493,  0.1716764 , -0.0786347 , -0.90473486,\n",
       "        -1.17327388],\n",
       "       [-0.66980002, -0.14254532,  0.10188925,  1.15913371,  1.92256157,\n",
       "         0.57788117],\n",
       "       [-0.34510472, -0.78496898,  0.45082502, -0.87954367, -0.90473486,\n",
       "        -1.17327388],\n",
       "       [-1.01768785,  0.03927269,  1.49763233, -1.53483283, -0.90473486,\n",
       "        -1.17327388],\n",
       "       [ 1.53348953,  1.3119988 , -1.22406668,  0.43103465, -0.19791075,\n",
       "        -0.29769636],\n",
       "       [-0.92491776, -1.027393  , -1.43342815, -1.02516348,  0.50891336,\n",
       "         1.45345869],\n",
       "       [ 1.25517927,  0.20896951, -0.45640799,  0.94070399, -0.19791075,\n",
       "        -0.29769636],\n",
       "       [ 1.13921666,  0.36654512,  1.00912225,  0.64946437,  1.21573747,\n",
       "         0.57788117],\n",
       "       [-1.06407289, -0.61527217,  1.00912225,  0.50384455, -0.90473486,\n",
       "        -1.17327388],\n",
       "       [-1.29599811, -1.48799864, -2.34066115, -1.1707833 ,  0.50891336,\n",
       "         1.45345869],\n",
       "       [ 0.16513075, -0.17890893, -0.17725937,  0.06698511, -0.90473486,\n",
       "        -1.17327388],\n",
       "       [-0.87853272, -0.31224214,  0.52061217,  0.86789409,  1.92256157,\n",
       "         0.57788117],\n",
       "       [-0.48425985, -1.08799901, -1.85215107, -1.46202292,  0.50891336,\n",
       "         1.45345869],\n",
       "       [-1.20322802, -1.42739264,  0.03210209, -1.31640311, -0.90473486,\n",
       "        -1.17327388],\n",
       "       [-0.22914211, -0.11830292, -0.38662083, -0.80673376, -0.90473486,\n",
       "        -1.17327388]])"
      ]
     },
     "execution_count": 40,
     "metadata": {},
     "output_type": "execute_result"
    }
   ],
   "source": [
    "st_scaler = StandardScaler()\n",
    "X = st_scaler.fit_transform(array)\n",
    "X"
   ]
  },
  {
   "cell_type": "code",
   "execution_count": 41,
   "id": "959a2cd1",
   "metadata": {},
   "outputs": [
    {
     "data": {
      "text/plain": [
       "DBSCAN(eps=5, min_samples=6)"
      ]
     },
     "execution_count": 41,
     "metadata": {},
     "output_type": "execute_result"
    }
   ],
   "source": [
    "dbscan = DBSCAN(eps = 5 , min_samples = 6)\n",
    "dbscan.fit(X)"
   ]
  },
  {
   "cell_type": "code",
   "execution_count": 42,
   "id": "5c0c1a07",
   "metadata": {},
   "outputs": [
    {
     "name": "stdout",
     "output_type": "stream",
     "text": [
      "[0 0 0 0 0 0 0 0 0 0 0 0 0 0 0 0 0 0 0 0 0 0 0 0 0 0 0 0 0 0 0 0 0 0 0 0 0\n",
      " 0 0 0 0 0 0 0 0 0 0 0 0 0]\n"
     ]
    }
   ],
   "source": [
    "# Noisy Samples are given the label: -1\n",
    "print(dbscan.labels_)"
   ]
  },
  {
   "cell_type": "code",
   "execution_count": 43,
   "id": "f16b9248",
   "metadata": {},
   "outputs": [],
   "source": [
    "cl = pd.DataFrame(dbscan.labels_, columns = ['clusters'])"
   ]
  },
  {
   "cell_type": "code",
   "execution_count": 44,
   "id": "c94df40b",
   "metadata": {},
   "outputs": [
    {
     "data": {
      "text/html": [
       "<div>\n",
       "<style scoped>\n",
       "    .dataframe tbody tr th:only-of-type {\n",
       "        vertical-align: middle;\n",
       "    }\n",
       "\n",
       "    .dataframe tbody tr th {\n",
       "        vertical-align: top;\n",
       "    }\n",
       "\n",
       "    .dataframe thead th {\n",
       "        text-align: right;\n",
       "    }\n",
       "</style>\n",
       "<table border=\"1\" class=\"dataframe\">\n",
       "  <thead>\n",
       "    <tr style=\"text-align: right;\">\n",
       "      <th></th>\n",
       "      <th>clusters</th>\n",
       "    </tr>\n",
       "  </thead>\n",
       "  <tbody>\n",
       "    <tr>\n",
       "      <th>0</th>\n",
       "      <td>0</td>\n",
       "    </tr>\n",
       "    <tr>\n",
       "      <th>1</th>\n",
       "      <td>0</td>\n",
       "    </tr>\n",
       "    <tr>\n",
       "      <th>2</th>\n",
       "      <td>0</td>\n",
       "    </tr>\n",
       "    <tr>\n",
       "      <th>3</th>\n",
       "      <td>0</td>\n",
       "    </tr>\n",
       "    <tr>\n",
       "      <th>4</th>\n",
       "      <td>0</td>\n",
       "    </tr>\n",
       "    <tr>\n",
       "      <th>5</th>\n",
       "      <td>0</td>\n",
       "    </tr>\n",
       "    <tr>\n",
       "      <th>6</th>\n",
       "      <td>0</td>\n",
       "    </tr>\n",
       "    <tr>\n",
       "      <th>7</th>\n",
       "      <td>0</td>\n",
       "    </tr>\n",
       "    <tr>\n",
       "      <th>8</th>\n",
       "      <td>0</td>\n",
       "    </tr>\n",
       "    <tr>\n",
       "      <th>9</th>\n",
       "      <td>0</td>\n",
       "    </tr>\n",
       "    <tr>\n",
       "      <th>10</th>\n",
       "      <td>0</td>\n",
       "    </tr>\n",
       "    <tr>\n",
       "      <th>11</th>\n",
       "      <td>0</td>\n",
       "    </tr>\n",
       "    <tr>\n",
       "      <th>12</th>\n",
       "      <td>0</td>\n",
       "    </tr>\n",
       "    <tr>\n",
       "      <th>13</th>\n",
       "      <td>0</td>\n",
       "    </tr>\n",
       "    <tr>\n",
       "      <th>14</th>\n",
       "      <td>0</td>\n",
       "    </tr>\n",
       "    <tr>\n",
       "      <th>15</th>\n",
       "      <td>0</td>\n",
       "    </tr>\n",
       "    <tr>\n",
       "      <th>16</th>\n",
       "      <td>0</td>\n",
       "    </tr>\n",
       "    <tr>\n",
       "      <th>17</th>\n",
       "      <td>0</td>\n",
       "    </tr>\n",
       "    <tr>\n",
       "      <th>18</th>\n",
       "      <td>0</td>\n",
       "    </tr>\n",
       "    <tr>\n",
       "      <th>19</th>\n",
       "      <td>0</td>\n",
       "    </tr>\n",
       "    <tr>\n",
       "      <th>20</th>\n",
       "      <td>0</td>\n",
       "    </tr>\n",
       "    <tr>\n",
       "      <th>21</th>\n",
       "      <td>0</td>\n",
       "    </tr>\n",
       "    <tr>\n",
       "      <th>22</th>\n",
       "      <td>0</td>\n",
       "    </tr>\n",
       "    <tr>\n",
       "      <th>23</th>\n",
       "      <td>0</td>\n",
       "    </tr>\n",
       "    <tr>\n",
       "      <th>24</th>\n",
       "      <td>0</td>\n",
       "    </tr>\n",
       "    <tr>\n",
       "      <th>25</th>\n",
       "      <td>0</td>\n",
       "    </tr>\n",
       "    <tr>\n",
       "      <th>26</th>\n",
       "      <td>0</td>\n",
       "    </tr>\n",
       "    <tr>\n",
       "      <th>27</th>\n",
       "      <td>0</td>\n",
       "    </tr>\n",
       "    <tr>\n",
       "      <th>28</th>\n",
       "      <td>0</td>\n",
       "    </tr>\n",
       "    <tr>\n",
       "      <th>29</th>\n",
       "      <td>0</td>\n",
       "    </tr>\n",
       "    <tr>\n",
       "      <th>30</th>\n",
       "      <td>0</td>\n",
       "    </tr>\n",
       "    <tr>\n",
       "      <th>31</th>\n",
       "      <td>0</td>\n",
       "    </tr>\n",
       "    <tr>\n",
       "      <th>32</th>\n",
       "      <td>0</td>\n",
       "    </tr>\n",
       "    <tr>\n",
       "      <th>33</th>\n",
       "      <td>0</td>\n",
       "    </tr>\n",
       "    <tr>\n",
       "      <th>34</th>\n",
       "      <td>0</td>\n",
       "    </tr>\n",
       "    <tr>\n",
       "      <th>35</th>\n",
       "      <td>0</td>\n",
       "    </tr>\n",
       "    <tr>\n",
       "      <th>36</th>\n",
       "      <td>0</td>\n",
       "    </tr>\n",
       "    <tr>\n",
       "      <th>37</th>\n",
       "      <td>0</td>\n",
       "    </tr>\n",
       "    <tr>\n",
       "      <th>38</th>\n",
       "      <td>0</td>\n",
       "    </tr>\n",
       "    <tr>\n",
       "      <th>39</th>\n",
       "      <td>0</td>\n",
       "    </tr>\n",
       "    <tr>\n",
       "      <th>40</th>\n",
       "      <td>0</td>\n",
       "    </tr>\n",
       "    <tr>\n",
       "      <th>41</th>\n",
       "      <td>0</td>\n",
       "    </tr>\n",
       "    <tr>\n",
       "      <th>42</th>\n",
       "      <td>0</td>\n",
       "    </tr>\n",
       "    <tr>\n",
       "      <th>43</th>\n",
       "      <td>0</td>\n",
       "    </tr>\n",
       "    <tr>\n",
       "      <th>44</th>\n",
       "      <td>0</td>\n",
       "    </tr>\n",
       "    <tr>\n",
       "      <th>45</th>\n",
       "      <td>0</td>\n",
       "    </tr>\n",
       "    <tr>\n",
       "      <th>46</th>\n",
       "      <td>0</td>\n",
       "    </tr>\n",
       "    <tr>\n",
       "      <th>47</th>\n",
       "      <td>0</td>\n",
       "    </tr>\n",
       "    <tr>\n",
       "      <th>48</th>\n",
       "      <td>0</td>\n",
       "    </tr>\n",
       "    <tr>\n",
       "      <th>49</th>\n",
       "      <td>0</td>\n",
       "    </tr>\n",
       "  </tbody>\n",
       "</table>\n",
       "</div>"
      ],
      "text/plain": [
       "    clusters\n",
       "0          0\n",
       "1          0\n",
       "2          0\n",
       "3          0\n",
       "4          0\n",
       "5          0\n",
       "6          0\n",
       "7          0\n",
       "8          0\n",
       "9          0\n",
       "10         0\n",
       "11         0\n",
       "12         0\n",
       "13         0\n",
       "14         0\n",
       "15         0\n",
       "16         0\n",
       "17         0\n",
       "18         0\n",
       "19         0\n",
       "20         0\n",
       "21         0\n",
       "22         0\n",
       "23         0\n",
       "24         0\n",
       "25         0\n",
       "26         0\n",
       "27         0\n",
       "28         0\n",
       "29         0\n",
       "30         0\n",
       "31         0\n",
       "32         0\n",
       "33         0\n",
       "34         0\n",
       "35         0\n",
       "36         0\n",
       "37         0\n",
       "38         0\n",
       "39         0\n",
       "40         0\n",
       "41         0\n",
       "42         0\n",
       "43         0\n",
       "44         0\n",
       "45         0\n",
       "46         0\n",
       "47         0\n",
       "48         0\n",
       "49         0"
      ]
     },
     "execution_count": 44,
     "metadata": {},
     "output_type": "execute_result"
    }
   ],
   "source": [
    "cl"
   ]
  },
  {
   "cell_type": "code",
   "execution_count": 45,
   "id": "7761f669",
   "metadata": {},
   "outputs": [
    {
     "data": {
      "text/html": [
       "<div>\n",
       "<style scoped>\n",
       "    .dataframe tbody tr th:only-of-type {\n",
       "        vertical-align: middle;\n",
       "    }\n",
       "\n",
       "    .dataframe tbody tr th {\n",
       "        vertical-align: top;\n",
       "    }\n",
       "\n",
       "    .dataframe thead th {\n",
       "        text-align: right;\n",
       "    }\n",
       "</style>\n",
       "<table border=\"1\" class=\"dataframe\">\n",
       "  <thead>\n",
       "    <tr style=\"text-align: right;\">\n",
       "      <th></th>\n",
       "      <th>Murder</th>\n",
       "      <th>Assault</th>\n",
       "      <th>UrbanPop</th>\n",
       "      <th>Rape</th>\n",
       "      <th>h_clusterid</th>\n",
       "      <th>clusterid_new</th>\n",
       "      <th>clusters</th>\n",
       "    </tr>\n",
       "  </thead>\n",
       "  <tbody>\n",
       "    <tr>\n",
       "      <th>0</th>\n",
       "      <td>13.2</td>\n",
       "      <td>236</td>\n",
       "      <td>58</td>\n",
       "      <td>26</td>\n",
       "      <td>1</td>\n",
       "      <td>1</td>\n",
       "      <td>0</td>\n",
       "    </tr>\n",
       "    <tr>\n",
       "      <th>1</th>\n",
       "      <td>10.0</td>\n",
       "      <td>263</td>\n",
       "      <td>48</td>\n",
       "      <td>46</td>\n",
       "      <td>1</td>\n",
       "      <td>1</td>\n",
       "      <td>0</td>\n",
       "    </tr>\n",
       "    <tr>\n",
       "      <th>2</th>\n",
       "      <td>8.1</td>\n",
       "      <td>294</td>\n",
       "      <td>80</td>\n",
       "      <td>40</td>\n",
       "      <td>3</td>\n",
       "      <td>2</td>\n",
       "      <td>0</td>\n",
       "    </tr>\n",
       "    <tr>\n",
       "      <th>3</th>\n",
       "      <td>8.8</td>\n",
       "      <td>190</td>\n",
       "      <td>50</td>\n",
       "      <td>21</td>\n",
       "      <td>0</td>\n",
       "      <td>1</td>\n",
       "      <td>0</td>\n",
       "    </tr>\n",
       "    <tr>\n",
       "      <th>4</th>\n",
       "      <td>9.0</td>\n",
       "      <td>276</td>\n",
       "      <td>91</td>\n",
       "      <td>45</td>\n",
       "      <td>3</td>\n",
       "      <td>2</td>\n",
       "      <td>0</td>\n",
       "    </tr>\n",
       "    <tr>\n",
       "      <th>5</th>\n",
       "      <td>7.9</td>\n",
       "      <td>204</td>\n",
       "      <td>78</td>\n",
       "      <td>44</td>\n",
       "      <td>4</td>\n",
       "      <td>2</td>\n",
       "      <td>0</td>\n",
       "    </tr>\n",
       "    <tr>\n",
       "      <th>6</th>\n",
       "      <td>3.3</td>\n",
       "      <td>110</td>\n",
       "      <td>77</td>\n",
       "      <td>6</td>\n",
       "      <td>0</td>\n",
       "      <td>0</td>\n",
       "      <td>0</td>\n",
       "    </tr>\n",
       "    <tr>\n",
       "      <th>7</th>\n",
       "      <td>5.9</td>\n",
       "      <td>238</td>\n",
       "      <td>72</td>\n",
       "      <td>13</td>\n",
       "      <td>0</td>\n",
       "      <td>0</td>\n",
       "      <td>0</td>\n",
       "    </tr>\n",
       "    <tr>\n",
       "      <th>8</th>\n",
       "      <td>15.4</td>\n",
       "      <td>335</td>\n",
       "      <td>80</td>\n",
       "      <td>41</td>\n",
       "      <td>3</td>\n",
       "      <td>2</td>\n",
       "      <td>0</td>\n",
       "    </tr>\n",
       "    <tr>\n",
       "      <th>9</th>\n",
       "      <td>17.4</td>\n",
       "      <td>211</td>\n",
       "      <td>60</td>\n",
       "      <td>33</td>\n",
       "      <td>1</td>\n",
       "      <td>1</td>\n",
       "      <td>0</td>\n",
       "    </tr>\n",
       "    <tr>\n",
       "      <th>10</th>\n",
       "      <td>5.3</td>\n",
       "      <td>46</td>\n",
       "      <td>83</td>\n",
       "      <td>23</td>\n",
       "      <td>0</td>\n",
       "      <td>0</td>\n",
       "      <td>0</td>\n",
       "    </tr>\n",
       "    <tr>\n",
       "      <th>11</th>\n",
       "      <td>2.6</td>\n",
       "      <td>120</td>\n",
       "      <td>54</td>\n",
       "      <td>10</td>\n",
       "      <td>0</td>\n",
       "      <td>3</td>\n",
       "      <td>0</td>\n",
       "    </tr>\n",
       "    <tr>\n",
       "      <th>12</th>\n",
       "      <td>10.4</td>\n",
       "      <td>249</td>\n",
       "      <td>83</td>\n",
       "      <td>31</td>\n",
       "      <td>3</td>\n",
       "      <td>2</td>\n",
       "      <td>0</td>\n",
       "    </tr>\n",
       "    <tr>\n",
       "      <th>13</th>\n",
       "      <td>7.2</td>\n",
       "      <td>113</td>\n",
       "      <td>65</td>\n",
       "      <td>25</td>\n",
       "      <td>0</td>\n",
       "      <td>0</td>\n",
       "      <td>0</td>\n",
       "    </tr>\n",
       "    <tr>\n",
       "      <th>14</th>\n",
       "      <td>2.2</td>\n",
       "      <td>56</td>\n",
       "      <td>57</td>\n",
       "      <td>8</td>\n",
       "      <td>0</td>\n",
       "      <td>3</td>\n",
       "      <td>0</td>\n",
       "    </tr>\n",
       "    <tr>\n",
       "      <th>15</th>\n",
       "      <td>6.0</td>\n",
       "      <td>115</td>\n",
       "      <td>66</td>\n",
       "      <td>19</td>\n",
       "      <td>0</td>\n",
       "      <td>0</td>\n",
       "      <td>0</td>\n",
       "    </tr>\n",
       "    <tr>\n",
       "      <th>16</th>\n",
       "      <td>9.7</td>\n",
       "      <td>109</td>\n",
       "      <td>52</td>\n",
       "      <td>15</td>\n",
       "      <td>0</td>\n",
       "      <td>3</td>\n",
       "      <td>0</td>\n",
       "    </tr>\n",
       "    <tr>\n",
       "      <th>17</th>\n",
       "      <td>15.4</td>\n",
       "      <td>249</td>\n",
       "      <td>66</td>\n",
       "      <td>28</td>\n",
       "      <td>1</td>\n",
       "      <td>1</td>\n",
       "      <td>0</td>\n",
       "    </tr>\n",
       "    <tr>\n",
       "      <th>18</th>\n",
       "      <td>2.1</td>\n",
       "      <td>83</td>\n",
       "      <td>51</td>\n",
       "      <td>1</td>\n",
       "      <td>2</td>\n",
       "      <td>3</td>\n",
       "      <td>0</td>\n",
       "    </tr>\n",
       "    <tr>\n",
       "      <th>19</th>\n",
       "      <td>11.3</td>\n",
       "      <td>300</td>\n",
       "      <td>67</td>\n",
       "      <td>37</td>\n",
       "      <td>3</td>\n",
       "      <td>2</td>\n",
       "      <td>0</td>\n",
       "    </tr>\n",
       "    <tr>\n",
       "      <th>20</th>\n",
       "      <td>4.4</td>\n",
       "      <td>149</td>\n",
       "      <td>85</td>\n",
       "      <td>15</td>\n",
       "      <td>0</td>\n",
       "      <td>0</td>\n",
       "      <td>0</td>\n",
       "    </tr>\n",
       "    <tr>\n",
       "      <th>21</th>\n",
       "      <td>12.1</td>\n",
       "      <td>255</td>\n",
       "      <td>74</td>\n",
       "      <td>43</td>\n",
       "      <td>3</td>\n",
       "      <td>2</td>\n",
       "      <td>0</td>\n",
       "    </tr>\n",
       "    <tr>\n",
       "      <th>22</th>\n",
       "      <td>2.7</td>\n",
       "      <td>72</td>\n",
       "      <td>66</td>\n",
       "      <td>11</td>\n",
       "      <td>0</td>\n",
       "      <td>0</td>\n",
       "      <td>0</td>\n",
       "    </tr>\n",
       "    <tr>\n",
       "      <th>23</th>\n",
       "      <td>16.1</td>\n",
       "      <td>259</td>\n",
       "      <td>44</td>\n",
       "      <td>18</td>\n",
       "      <td>1</td>\n",
       "      <td>1</td>\n",
       "      <td>0</td>\n",
       "    </tr>\n",
       "    <tr>\n",
       "      <th>24</th>\n",
       "      <td>9.0</td>\n",
       "      <td>178</td>\n",
       "      <td>70</td>\n",
       "      <td>38</td>\n",
       "      <td>4</td>\n",
       "      <td>2</td>\n",
       "      <td>0</td>\n",
       "    </tr>\n",
       "    <tr>\n",
       "      <th>25</th>\n",
       "      <td>6.0</td>\n",
       "      <td>109</td>\n",
       "      <td>53</td>\n",
       "      <td>16</td>\n",
       "      <td>0</td>\n",
       "      <td>3</td>\n",
       "      <td>0</td>\n",
       "    </tr>\n",
       "    <tr>\n",
       "      <th>26</th>\n",
       "      <td>4.3</td>\n",
       "      <td>102</td>\n",
       "      <td>62</td>\n",
       "      <td>17</td>\n",
       "      <td>0</td>\n",
       "      <td>0</td>\n",
       "      <td>0</td>\n",
       "    </tr>\n",
       "    <tr>\n",
       "      <th>27</th>\n",
       "      <td>12.2</td>\n",
       "      <td>252</td>\n",
       "      <td>81</td>\n",
       "      <td>47</td>\n",
       "      <td>3</td>\n",
       "      <td>2</td>\n",
       "      <td>0</td>\n",
       "    </tr>\n",
       "    <tr>\n",
       "      <th>28</th>\n",
       "      <td>2.1</td>\n",
       "      <td>57</td>\n",
       "      <td>56</td>\n",
       "      <td>4</td>\n",
       "      <td>0</td>\n",
       "      <td>3</td>\n",
       "      <td>0</td>\n",
       "    </tr>\n",
       "    <tr>\n",
       "      <th>29</th>\n",
       "      <td>7.4</td>\n",
       "      <td>159</td>\n",
       "      <td>89</td>\n",
       "      <td>20</td>\n",
       "      <td>0</td>\n",
       "      <td>0</td>\n",
       "      <td>0</td>\n",
       "    </tr>\n",
       "    <tr>\n",
       "      <th>30</th>\n",
       "      <td>11.4</td>\n",
       "      <td>285</td>\n",
       "      <td>70</td>\n",
       "      <td>42</td>\n",
       "      <td>3</td>\n",
       "      <td>2</td>\n",
       "      <td>0</td>\n",
       "    </tr>\n",
       "    <tr>\n",
       "      <th>31</th>\n",
       "      <td>11.1</td>\n",
       "      <td>254</td>\n",
       "      <td>86</td>\n",
       "      <td>34</td>\n",
       "      <td>3</td>\n",
       "      <td>2</td>\n",
       "      <td>0</td>\n",
       "    </tr>\n",
       "    <tr>\n",
       "      <th>32</th>\n",
       "      <td>13.0</td>\n",
       "      <td>337</td>\n",
       "      <td>45</td>\n",
       "      <td>14</td>\n",
       "      <td>1</td>\n",
       "      <td>1</td>\n",
       "      <td>0</td>\n",
       "    </tr>\n",
       "    <tr>\n",
       "      <th>33</th>\n",
       "      <td>0.8</td>\n",
       "      <td>45</td>\n",
       "      <td>44</td>\n",
       "      <td>0</td>\n",
       "      <td>2</td>\n",
       "      <td>3</td>\n",
       "      <td>0</td>\n",
       "    </tr>\n",
       "    <tr>\n",
       "      <th>34</th>\n",
       "      <td>7.3</td>\n",
       "      <td>120</td>\n",
       "      <td>75</td>\n",
       "      <td>27</td>\n",
       "      <td>0</td>\n",
       "      <td>0</td>\n",
       "      <td>0</td>\n",
       "    </tr>\n",
       "    <tr>\n",
       "      <th>35</th>\n",
       "      <td>6.6</td>\n",
       "      <td>151</td>\n",
       "      <td>68</td>\n",
       "      <td>22</td>\n",
       "      <td>0</td>\n",
       "      <td>0</td>\n",
       "      <td>0</td>\n",
       "    </tr>\n",
       "    <tr>\n",
       "      <th>36</th>\n",
       "      <td>4.9</td>\n",
       "      <td>159</td>\n",
       "      <td>67</td>\n",
       "      <td>39</td>\n",
       "      <td>4</td>\n",
       "      <td>2</td>\n",
       "      <td>0</td>\n",
       "    </tr>\n",
       "    <tr>\n",
       "      <th>37</th>\n",
       "      <td>6.3</td>\n",
       "      <td>106</td>\n",
       "      <td>72</td>\n",
       "      <td>11</td>\n",
       "      <td>0</td>\n",
       "      <td>0</td>\n",
       "      <td>0</td>\n",
       "    </tr>\n",
       "    <tr>\n",
       "      <th>38</th>\n",
       "      <td>3.4</td>\n",
       "      <td>174</td>\n",
       "      <td>87</td>\n",
       "      <td>2</td>\n",
       "      <td>0</td>\n",
       "      <td>0</td>\n",
       "      <td>0</td>\n",
       "    </tr>\n",
       "    <tr>\n",
       "      <th>39</th>\n",
       "      <td>14.4</td>\n",
       "      <td>279</td>\n",
       "      <td>48</td>\n",
       "      <td>29</td>\n",
       "      <td>1</td>\n",
       "      <td>1</td>\n",
       "      <td>0</td>\n",
       "    </tr>\n",
       "    <tr>\n",
       "      <th>40</th>\n",
       "      <td>3.8</td>\n",
       "      <td>86</td>\n",
       "      <td>45</td>\n",
       "      <td>9</td>\n",
       "      <td>2</td>\n",
       "      <td>3</td>\n",
       "      <td>0</td>\n",
       "    </tr>\n",
       "    <tr>\n",
       "      <th>41</th>\n",
       "      <td>13.2</td>\n",
       "      <td>188</td>\n",
       "      <td>59</td>\n",
       "      <td>36</td>\n",
       "      <td>1</td>\n",
       "      <td>1</td>\n",
       "      <td>0</td>\n",
       "    </tr>\n",
       "    <tr>\n",
       "      <th>42</th>\n",
       "      <td>12.7</td>\n",
       "      <td>201</td>\n",
       "      <td>80</td>\n",
       "      <td>32</td>\n",
       "      <td>3</td>\n",
       "      <td>2</td>\n",
       "      <td>0</td>\n",
       "    </tr>\n",
       "    <tr>\n",
       "      <th>43</th>\n",
       "      <td>3.2</td>\n",
       "      <td>120</td>\n",
       "      <td>80</td>\n",
       "      <td>30</td>\n",
       "      <td>0</td>\n",
       "      <td>0</td>\n",
       "      <td>0</td>\n",
       "    </tr>\n",
       "    <tr>\n",
       "      <th>44</th>\n",
       "      <td>2.2</td>\n",
       "      <td>48</td>\n",
       "      <td>32</td>\n",
       "      <td>7</td>\n",
       "      <td>2</td>\n",
       "      <td>3</td>\n",
       "      <td>0</td>\n",
       "    </tr>\n",
       "    <tr>\n",
       "      <th>45</th>\n",
       "      <td>8.5</td>\n",
       "      <td>156</td>\n",
       "      <td>63</td>\n",
       "      <td>24</td>\n",
       "      <td>0</td>\n",
       "      <td>0</td>\n",
       "      <td>0</td>\n",
       "    </tr>\n",
       "    <tr>\n",
       "      <th>46</th>\n",
       "      <td>4.0</td>\n",
       "      <td>145</td>\n",
       "      <td>73</td>\n",
       "      <td>35</td>\n",
       "      <td>4</td>\n",
       "      <td>2</td>\n",
       "      <td>0</td>\n",
       "    </tr>\n",
       "    <tr>\n",
       "      <th>47</th>\n",
       "      <td>5.7</td>\n",
       "      <td>81</td>\n",
       "      <td>39</td>\n",
       "      <td>3</td>\n",
       "      <td>2</td>\n",
       "      <td>3</td>\n",
       "      <td>0</td>\n",
       "    </tr>\n",
       "    <tr>\n",
       "      <th>48</th>\n",
       "      <td>2.6</td>\n",
       "      <td>53</td>\n",
       "      <td>66</td>\n",
       "      <td>5</td>\n",
       "      <td>0</td>\n",
       "      <td>0</td>\n",
       "      <td>0</td>\n",
       "    </tr>\n",
       "    <tr>\n",
       "      <th>49</th>\n",
       "      <td>6.8</td>\n",
       "      <td>161</td>\n",
       "      <td>60</td>\n",
       "      <td>12</td>\n",
       "      <td>0</td>\n",
       "      <td>0</td>\n",
       "      <td>0</td>\n",
       "    </tr>\n",
       "  </tbody>\n",
       "</table>\n",
       "</div>"
      ],
      "text/plain": [
       "    Murder  Assault  UrbanPop  Rape  h_clusterid  clusterid_new  clusters\n",
       "0     13.2      236        58    26            1              1         0\n",
       "1     10.0      263        48    46            1              1         0\n",
       "2      8.1      294        80    40            3              2         0\n",
       "3      8.8      190        50    21            0              1         0\n",
       "4      9.0      276        91    45            3              2         0\n",
       "5      7.9      204        78    44            4              2         0\n",
       "6      3.3      110        77     6            0              0         0\n",
       "7      5.9      238        72    13            0              0         0\n",
       "8     15.4      335        80    41            3              2         0\n",
       "9     17.4      211        60    33            1              1         0\n",
       "10     5.3       46        83    23            0              0         0\n",
       "11     2.6      120        54    10            0              3         0\n",
       "12    10.4      249        83    31            3              2         0\n",
       "13     7.2      113        65    25            0              0         0\n",
       "14     2.2       56        57     8            0              3         0\n",
       "15     6.0      115        66    19            0              0         0\n",
       "16     9.7      109        52    15            0              3         0\n",
       "17    15.4      249        66    28            1              1         0\n",
       "18     2.1       83        51     1            2              3         0\n",
       "19    11.3      300        67    37            3              2         0\n",
       "20     4.4      149        85    15            0              0         0\n",
       "21    12.1      255        74    43            3              2         0\n",
       "22     2.7       72        66    11            0              0         0\n",
       "23    16.1      259        44    18            1              1         0\n",
       "24     9.0      178        70    38            4              2         0\n",
       "25     6.0      109        53    16            0              3         0\n",
       "26     4.3      102        62    17            0              0         0\n",
       "27    12.2      252        81    47            3              2         0\n",
       "28     2.1       57        56     4            0              3         0\n",
       "29     7.4      159        89    20            0              0         0\n",
       "30    11.4      285        70    42            3              2         0\n",
       "31    11.1      254        86    34            3              2         0\n",
       "32    13.0      337        45    14            1              1         0\n",
       "33     0.8       45        44     0            2              3         0\n",
       "34     7.3      120        75    27            0              0         0\n",
       "35     6.6      151        68    22            0              0         0\n",
       "36     4.9      159        67    39            4              2         0\n",
       "37     6.3      106        72    11            0              0         0\n",
       "38     3.4      174        87     2            0              0         0\n",
       "39    14.4      279        48    29            1              1         0\n",
       "40     3.8       86        45     9            2              3         0\n",
       "41    13.2      188        59    36            1              1         0\n",
       "42    12.7      201        80    32            3              2         0\n",
       "43     3.2      120        80    30            0              0         0\n",
       "44     2.2       48        32     7            2              3         0\n",
       "45     8.5      156        63    24            0              0         0\n",
       "46     4.0      145        73    35            4              2         0\n",
       "47     5.7       81        39     3            2              3         0\n",
       "48     2.6       53        66     5            0              0         0\n",
       "49     6.8      161        60    12            0              0         0"
      ]
     },
     "execution_count": 45,
     "metadata": {},
     "output_type": "execute_result"
    }
   ],
   "source": [
    "clustered = pd.concat([df,cl], axis =1)\n",
    "clustered"
   ]
  },
  {
   "cell_type": "code",
   "execution_count": 46,
   "id": "90470147",
   "metadata": {},
   "outputs": [
    {
     "data": {
      "text/html": [
       "<div>\n",
       "<style scoped>\n",
       "    .dataframe tbody tr th:only-of-type {\n",
       "        vertical-align: middle;\n",
       "    }\n",
       "\n",
       "    .dataframe tbody tr th {\n",
       "        vertical-align: top;\n",
       "    }\n",
       "\n",
       "    .dataframe thead th {\n",
       "        text-align: right;\n",
       "    }\n",
       "</style>\n",
       "<table border=\"1\" class=\"dataframe\">\n",
       "  <thead>\n",
       "    <tr style=\"text-align: right;\">\n",
       "      <th></th>\n",
       "      <th>Murder</th>\n",
       "      <th>Assault</th>\n",
       "      <th>UrbanPop</th>\n",
       "      <th>Rape</th>\n",
       "      <th>h_clusterid</th>\n",
       "      <th>clusterid_new</th>\n",
       "      <th>clusters</th>\n",
       "    </tr>\n",
       "  </thead>\n",
       "  <tbody>\n",
       "  </tbody>\n",
       "</table>\n",
       "</div>"
      ],
      "text/plain": [
       "Empty DataFrame\n",
       "Columns: [Murder, Assault, UrbanPop, Rape, h_clusterid, clusterid_new, clusters]\n",
       "Index: []"
      ]
     },
     "execution_count": 46,
     "metadata": {},
     "output_type": "execute_result"
    }
   ],
   "source": [
    "# -1 Shows outlier / extreme values for the dataset\n",
    "clustered[clustered['clusters'] == -1].head()"
   ]
  },
  {
   "cell_type": "code",
   "execution_count": 47,
   "id": "9abadfc6",
   "metadata": {},
   "outputs": [
    {
     "data": {
      "text/plain": [
       "Murder             7.788\n",
       "Assault          170.760\n",
       "UrbanPop          65.540\n",
       "Rape              23.080\n",
       "h_clusterid        1.280\n",
       "clusterid_new      1.340\n",
       "clusters           0.000\n",
       "dtype: float64"
      ]
     },
     "execution_count": 47,
     "metadata": {},
     "output_type": "execute_result"
    }
   ],
   "source": [
    "clustered.mean()"
   ]
  },
  {
   "cell_type": "code",
   "execution_count": 48,
   "id": "534b1f59",
   "metadata": {},
   "outputs": [],
   "source": [
    "p = clustered.iloc[:,-1]\n",
    "q = clustered.iloc[:,-2]\n",
    "r = clustered.iloc[:,-3]\n",
    "#print(p)\n",
    "#print(q)\n",
    "#print(r)"
   ]
  },
  {
   "cell_type": "code",
   "execution_count": 49,
   "id": "da60c6f6",
   "metadata": {},
   "outputs": [
    {
     "data": {
      "image/png": "[encoded data removed]",
      "text/plain": [
       "<Figure size 432x288 with 1 Axes>"
      ]
     },
     "metadata": {
      "needs_background": "light"
     },
     "output_type": "display_data"
    }
   ],
   "source": [
    "plt.scatter(p,q)\n",
    "plt.scatter(q,r)\n",
    "plt.scatter(p,r)\n",
    "plt.show()"
   ]
  },
  {
   "cell_type": "code",
   "execution_count": 50,
   "id": "9098d227",
   "metadata": {},
   "outputs": [
    {
     "data": {
      "image/png": "[encoded data removed]",
      "text/plain": [
       "<Figure size 432x288 with 1 Axes>"
      ]
     },
     "metadata": {
      "needs_background": "light"
     },
     "output_type": "display_data"
    }
   ],
   "source": [
    "plt.plot(p,q)\n",
    "plt.plot(q,r)\n",
    "plt.plot(p,r)\n",
    "plt.show()"
   ]
  },
  {
   "cell_type": "code",
   "execution_count": 51,
   "id": "28db908a",
   "metadata": {},
   "outputs": [
    {
     "data": {
      "image/png": "[encoded data removed]",
      "text/plain": [
       "<Figure size 432x288 with 1 Axes>"
      ]
     },
     "metadata": {
      "needs_background": "light"
     },
     "output_type": "display_data"
    }
   ],
   "source": [
    "from mpl_toolkits import mplot3d\n",
    "%matplotlib inline\n",
    "import matplotlib.pyplot as plt\n",
    "fig = plt.figure()\n",
    "ax = plt.axes(projection = '3d')\n",
    "ax.plot(p,q,r)\n",
    "plt.show()"
   ]
  },
  {
   "cell_type": "markdown",
   "id": "29db496f",
   "metadata": {},
   "source": [
    "# Inferences:"
   ]
  },
  {
   "cell_type": "code",
   "execution_count": 52,
   "id": "f450ed92",
   "metadata": {},
   "outputs": [],
   "source": [
    "# In clusters column there is outiers/extreme values exists in the given data shows with -1."
   ]
  },
  {
   "cell_type": "code",
   "execution_count": null,
   "id": "b88dac03",
   "metadata": {},
   "outputs": [],
   "source": []
  }
 ],
 "metadata": {
  "kernelspec": {
   "display_name": "Python 3 (ipykernel)",
   "language": "python",
   "name": "python3"
  },
  "language_info": {
   "codemirror_mode": {
    "name": "ipython",
    "version": 3
   },
   "file_extension": ".py",
   "mimetype": "text/x-python",
   "name": "python",
   "nbconvert_exporter": "python",
   "pygments_lexer": "ipython3",
   "version": "3.9.13"
  }
 },
 "nbformat": 4,
 "nbformat_minor": 5
}
