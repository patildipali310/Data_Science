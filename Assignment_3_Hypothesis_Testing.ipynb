{
 "cells": [
  {
   "cell_type": "markdown",
   "id": "ed5b0c93",
   "metadata": {},
   "source": [
    "# Assingment_3  : Hypothesis_Testing"
   ]
  },
  {
   "cell_type": "code",
   "execution_count": 24,
   "id": "321609e5",
   "metadata": {},
   "outputs": [],
   "source": [
    "import numpy as np\n",
    "import pandas as pd\n",
    "import scipy\n",
    "import scipy.stats as stats\n",
    "from scipy.stats import chi2_contingency"
   ]
  },
  {
   "cell_type": "markdown",
   "id": "1d01b634",
   "metadata": {},
   "source": [
    "# Q. 1) \n",
    "A F&B manager wants to determine whether there is any significant difference in the diameter of the cutlet between two units. A randomly selected sample of cutlets was collected from both units and measured? Analyze the data and draw inferences at 5% significance level. Please state the assumptions and tests that you carried out to check validity of the assumptions.\n",
    "\n",
    "\n",
    "# Minitab File : Cutlets.mtw\n"
   ]
  },
  {
   "cell_type": "code",
   "execution_count": 3,
   "id": "30a15537",
   "metadata": {},
   "outputs": [
    {
     "name": "stdout",
     "output_type": "stream",
     "text": [
      "   Unit A  Unit B\n",
      "0  6.8090  6.7703\n",
      "1  6.4376  7.5093\n",
      "2  6.9157  6.7300\n",
      "3  7.3012  6.7878\n",
      "4  7.4488  7.1522\n"
     ]
    },
    {
     "data": {
      "text/plain": [
       "Ttest_indResult(statistic=0.7228688704678063, pvalue=0.47223947245995)"
      ]
     },
     "execution_count": 3,
     "metadata": {},
     "output_type": "execute_result"
    }
   ],
   "source": [
    "df = pd.read_csv(\"D:\\Data Science\\Assignments DS\\LMS Assignments DS\\Cutlets.csv\")\n",
    "print(df.head())\n",
    "# H0 : Diameter of cutlet betweeen two units are different\n",
    "# Ha : Diameter of cutlet between two units are similar\n",
    "\n",
    "unit_a=df.iloc[:,0]\n",
    "#print(unit_a)\n",
    "unit_b=df.iloc[:,1]\n",
    "#print(unit_b)\n",
    "\n",
    "#2-sample 2-tail ttest, Syntax: stats.ttest_ind(array1,array2)   # ind = independent samples\n",
    "#p_value=stats.ttest_ind(unit_a,unit_b)\n",
    "stats.ttest_ind(unit_a,unit_b)\n",
    "\n",
    "# Here value of p is: 0.47 >0.05\n",
    "#Hence we accept the null hypothesis, and we conclude that their is a significant difference in \n",
    "#the diameter of the cutlet between two units."
   ]
  },
  {
   "cell_type": "code",
   "execution_count": 6,
   "id": "2019ee09",
   "metadata": {},
   "outputs": [
    {
     "name": "stdout",
     "output_type": "stream",
     "text": [
      "Index(['Unit A', 'Unit B'], dtype='object')\n",
      "Ttest_indResult(statistic=0.7228688704678063, pvalue=0.47223947245995)\n"
     ]
    }
   ],
   "source": [
    "import pandas as pd\n",
    "import scipy.stats as stats\n",
    "#data = pd.read_csv(\"D:\\Data Science\\Assignments DS\\LMS Assignments DS\\Cutlets.csv\")\n",
    "print(data.columns)\n",
    "print(stats.ttest_ind(data['Unit A'], data['Unit B']))"
   ]
  },
  {
   "cell_type": "markdown",
   "id": "68b1b48e",
   "metadata": {},
   "source": [
    "# Q. 2) \n",
    "A hospital wants to determine whether there is any difference in the average Turn Around Time (TAT) of reports of the laboratories on their preferred list. They collected a random sample and recorded TAT for reports of 4 laboratories. TAT is defined as sample collected to report dispatch.\n",
    "   \n",
    "  Analyze the data and determine whether there is any difference in average TAT among the different laboratories at 5% significance level.\n",
    " \n",
    " \n",
    " # Minitab File: LabTAT.mtw\n"
   ]
  },
  {
   "cell_type": "code",
   "execution_count": 7,
   "id": "fddd8aa6",
   "metadata": {},
   "outputs": [
    {
     "name": "stdout",
     "output_type": "stream",
     "text": [
      "   Laboratory 1  Laboratory 2  Laboratory 3  Laboratory 4\n",
      "0        185.35        165.53        176.70        166.13\n",
      "1        170.49        185.91        198.45        160.79\n",
      "2        192.77        194.92        201.23        185.18\n",
      "3        177.33        183.00        199.61        176.42\n",
      "4        193.41        169.57        204.63        152.60\n",
      "F_onewayResult(statistic=118.70421654401437, pvalue=2.1156708949992414e-57)\n"
     ]
    }
   ],
   "source": [
    "df=pd.read_csv(\"D:\\Data Science\\Assignments DS\\LMS Assignments DS\\LabTAT.csv\")\n",
    "print(df.head())\n",
    "# H0 = The average TAT of reports are different\n",
    "# H1 = The average TAT of reports are same\n",
    "lab_1= df.iloc[:,0]\n",
    "lab_2= df.iloc[:,1]\n",
    "lab_3= df.iloc[:,2]\n",
    "lab_4= df.iloc[:,3]\n",
    "print(stats.f_oneway(lab_1,lab_2,lab_3,lab_4))\n",
    "\n",
    "# Here pvalue is: 2.11> 0.05.\n",
    "#Hence we accept null hpothesis, and conclude that their is a difference in the average turn \n",
    "#around time of reports of the laboratories."
   ]
  },
  {
   "cell_type": "code",
   "execution_count": 9,
   "id": "f6d4d15c",
   "metadata": {},
   "outputs": [
    {
     "name": "stdout",
     "output_type": "stream",
     "text": [
      "F_onewayResult(statistic=118.70421654401437, pvalue=2.1156708949992414e-57)\n"
     ]
    }
   ],
   "source": [
    "import pandas as pd\n",
    "import scipy.stats as stats\n",
    "df1 = pd.read_csv(\"D:\\Data Science\\Assignments DS\\LMS Assignments DS\\LabTAT.csv\")\n",
    "print(stats.f_oneway(df1['Laboratory 1'],df1['Laboratory 2'],df1['Laboratory 3'],df1['Laboratory 4']))"
   ]
  },
  {
   "cell_type": "markdown",
   "id": "92739034",
   "metadata": {},
   "source": [
    "# Q. 3)\n",
    "Sales of products in four different regions is tabulated for males and females. Find if male-female buyer rations are similar across regions.\n",
    "# Buyer Ratio.csv"
   ]
  },
  {
   "cell_type": "code",
   "execution_count": 28,
   "id": "4e2972af",
   "metadata": {},
   "outputs": [
    {
     "name": "stdout",
     "output_type": "stream",
     "text": [
      "  Observed Values  East  West  North  South\n",
      "0           Males    50   142    131     70\n",
      "1         Females   435  1523   1356    750\n",
      "  Observed Values  East  West  North  South\n",
      "0           Males    50   142    131     70\n",
      "1         Females   435  1523   1356    750\n",
      "East      50\n",
      "West     142\n",
      "North    131\n",
      "South     70\n",
      "Name: 0, dtype: object\n",
      "East      435\n",
      "West     1523\n",
      "North    1356\n",
      "South     750\n",
      "Name: 1, dtype: object\n"
     ]
    },
    {
     "data": {
      "text/plain": [
       "(1.595945538661058,\n",
       " 0.6603094907091882,\n",
       " 3,\n",
       " array([[  42.76531299,  146.81287862,  131.11756787,   72.30424052],\n",
       "        [ 442.23468701, 1518.18712138, 1355.88243213,  747.69575948]]))"
      ]
     },
     "execution_count": 28,
     "metadata": {},
     "output_type": "execute_result"
    }
   ],
   "source": [
    "df=pd.read_csv(\"D:\\Data Science\\Assignments DS\\LMS Assignments DS\\BuyerRatio.csv\")\n",
    "print(df.head())\n",
    "#H0 = All proportions are equal\n",
    "#Ha = Not all proportions are equal\n",
    "# Make 3-dimentional Array\n",
    "obs=np.array([[50,142,131,70],[435,1523,1356,750]])\n",
    "obs\n",
    "print(df)\n",
    "print(male)\n",
    "print(female)\n",
    "# chi2 contigency stats\n",
    "chi2_contingency(obs)\n",
    "# Here pvalue= 0.6>0.05, Hence we accept null hypothesis and say, all proportions are equal."
   ]
  },
  {
   "cell_type": "markdown",
   "id": "bffe61b0",
   "metadata": {},
   "source": [
    "# Q. 4) \n",
    "TeleCall uses 4 centers around the globe to process customer order forms. They audit a certain %  of the customer order forms. Any error in order form renders it defective and has to be reworked before processing.  The manager wants to check whether the defective %  varies by centre. Please analyze the data at 5% significance level and help the manager draw appropriate inferences\n",
    "\n",
    "# Minitab File: CustomerOrderForm.mtw\n",
    " \n"
   ]
  },
  {
   "cell_type": "code",
   "execution_count": 29,
   "id": "69a27d5d",
   "metadata": {},
   "outputs": [
    {
     "name": "stdout",
     "output_type": "stream",
     "text": [
      "['Error Free' 'Defective']\n",
      "['Error Free' 'Defective']\n",
      "['Defective' 'Error Free']\n",
      "['Error Free' 'Defective']\n",
      "Error Free    271\n",
      "Defective      29\n",
      "Name: Phillippines, dtype: int64\n",
      "Error Free    267\n",
      "Defective      33\n",
      "Name: Indonesia, dtype: int64\n",
      "Error Free    269\n",
      "Defective      31\n",
      "Name: Malta, dtype: int64\n",
      "Error Free    280\n",
      "Defective      20\n",
      "Name: India, dtype: int64\n",
      "(3.858960685820355, 0.2771020991233135, 3, array([[271.75, 271.75, 271.75, 271.75],\n",
      "       [ 28.25,  28.25,  28.25,  28.25]]))\n"
     ]
    }
   ],
   "source": [
    "df= pd.read_csv(\"D:\\Data Science\\Assignments DS\\LMS Assignments DS\\Costomer+OrderForm.csv\")\n",
    "#print(df.head())\n",
    "# H0 :  Independence of categorical variables (customer order forms defective % does not varies by centre) \n",
    "# Ha : Dependence of categorical variables (customer order forms defective % varies by centre)\n",
    "\n",
    "print(df[\"Phillippines\"].unique())\n",
    "print(df[\"Indonesia\"].unique())\n",
    "print(df[\"Malta\"].unique())\n",
    "print(df[\"India\"].unique())\n",
    "\n",
    "print(df[\"Phillippines\"].value_counts())\n",
    "print(df[\"Indonesia\"].value_counts())\n",
    "print(df[\"Malta\"].value_counts())\n",
    "print(df[\"India\"].value_counts())\n",
    "\n",
    "data= pd.DataFrame([[271,267,269,280],[29,33,31,20]])\n",
    "data\n",
    "print(chi2_contingency(data))  # Output  is:  (Chi2 stats value, p_value, df, expected obsvations)\n",
    "\n",
    "#Inference: As (p_value = 0.2771) > (α = 0.05); Accept Null Hypothesis i.e. Independence of categorical variables Thus, customer order forms defective % does not varies by centre.\n",
    "# Variables are independent, there is a no relationship between two-categorical variables, knowing the value of one-variable does not help to predict value of other variable."
   ]
  },
  {
   "cell_type": "code",
   "execution_count": null,
   "id": "8747fc55",
   "metadata": {},
   "outputs": [],
   "source": []
  },
  {
   "cell_type": "code",
   "execution_count": null,
   "id": "415b1ccc",
   "metadata": {},
   "outputs": [],
   "source": []
  },
  {
   "cell_type": "code",
   "execution_count": null,
   "id": "d1bd5776",
   "metadata": {},
   "outputs": [],
   "source": []
  }
 ],
 "metadata": {
  "kernelspec": {
   "display_name": "Python 3 (ipykernel)",
   "language": "python",
   "name": "python3"
  },
  "language_info": {
   "codemirror_mode": {
    "name": "ipython",
    "version": 3
   },
   "file_extension": ".py",
   "mimetype": "text/x-python",
   "name": "python",
   "nbconvert_exporter": "python",
   "pygments_lexer": "ipython3",
   "version": "3.9.13"
  }
 },
 "nbformat": 4,
 "nbformat_minor": 5
}
