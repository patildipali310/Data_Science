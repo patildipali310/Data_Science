{
 "cells": [
  {
   "cell_type": "markdown",
   "id": "13e001c2",
   "metadata": {},
   "source": [
    "# Assignment_2"
   ]
  },
  {
   "cell_type": "code",
   "execution_count": 2,
   "id": "92a743af",
   "metadata": {},
   "outputs": [],
   "source": [
    "import numpy as np\n",
    "import pandas as pd\n",
    "import matplotlib.pyplot as plt\n",
    "import seaborn as sns\n",
    "import scipy\n",
    "from scipy import stats\n",
    "from scipy.stats import norm"
   ]
  },
  {
   "cell_type": "markdown",
   "id": "8e8d2818",
   "metadata": {},
   "source": [
    "# Topics: Descriptive Statistics and Probability"
   ]
  },
  {
   "cell_type": "markdown",
   "id": "bbb63c07",
   "metadata": {},
   "source": [
    "Q1) Look at the data given below. Plot the data, find the outliers and find out  μ,σ,σ^2"
   ]
  },
  {
   "cell_type": "code",
   "execution_count": 39,
   "id": "3a195791",
   "metadata": {},
   "outputs": [
    {
     "name": "stdout",
     "output_type": "stream",
     "text": [
      "Mean of the Measure is: 33.27133333333333\n",
      "Standard deviation of the Measure is: 16.370812590976932\n",
      "Variance of the Measure is: 268.00350488888887\n"
     ]
    },
    {
     "data": {
      "image/png": "[encoded data removed]",
      "text/plain": [
       "<Figure size 432x288 with 1 Axes>"
      ]
     },
     "metadata": {
      "needs_background": "light"
     },
     "output_type": "display_data"
    },
    {
     "name": "stdout",
     "output_type": "stream",
     "text": [
      "Outlier is : [array([91.36])]\n"
     ]
    }
   ],
   "source": [
    "Measure_X = np.array([24.23,25.53,25.41,24.14,29.62,28.25,25.81,24.39,40.26,32.95,91.36,25.99,39.42,26.71,35.00])\n",
    "print('Mean of the Measure is:', Measure_X.mean())\n",
    "print('Standard deviation of the Measure is:', Measure_X.std())\n",
    "print('Variance of the Measure is:', Measure_X.var())\n",
    "\n",
    "box=plt.boxplot(Measure_X, vert=False)\n",
    "plt.show()\n",
    "print('Outlier is :', [item.get_xdata() for item in box['fliers']])"
   ]
  },
  {
   "cell_type": "markdown",
   "id": "6ab1d89b",
   "metadata": {},
   "source": [
    "5.\tReturns on a certain business venture, to the nearest $1,000, are known to follow the following probability distribution\n",
    "x\tP(x)\n",
    "-2,000\t0.1\n",
    "-1,000\t0.1\n",
    "0\t0.2\n",
    "1000\t0.2\n",
    "2000\t0.3\n",
    "3000\t0.1\n",
    "(ii)\tIs the venture likely to be successful? Explain\n",
    "(iii)\tWhat is the long-term average earning of business ventures of this kind? Explain\n",
    "(iv)\tWhat is the good measure of the risk involved in a venture of this kind? Compute this measure"
   ]
  },
  {
   "cell_type": "code",
   "execution_count": 40,
   "id": "01b2f626",
   "metadata": {},
   "outputs": [
    {
     "name": "stdout",
     "output_type": "stream",
     "text": [
      "Probability if venture would be successful is: 0.6\n",
      "Average earining is: 800.0\n",
      "Standard deviation is : 1707.825127659933\n",
      "variance is: 2916666.6666666665\n"
     ]
    }
   ],
   "source": [
    "# 2) \n",
    "print('Probability if venture would be successful is:', 0.2+0.3+0.1)\n",
    "# 3)\n",
    "print('Average earining is:', (-2000*0.1)+(-1000*0.1)+(0*0.2)+(1000*0.2)+(2000*0.3)+(3000*0.1))\n",
    "# 4)\n",
    "x = np.array([-2000,-1000,0,1000,2000,3000])\n",
    "print('Standard deviation is :', x.std())\n",
    "print(\"variance is:\", x.var())"
   ]
  },
  {
   "cell_type": "markdown",
   "id": "b4d64ed1",
   "metadata": {},
   "source": [
    "# Topics: Normal distribution, Functions of Random Variables"
   ]
  },
  {
   "cell_type": "markdown",
   "id": "e5f8bc0e",
   "metadata": {},
   "source": [
    "1.\tThe time required for servicing transmissions is normally distributed with  = 45 minutes and  = 8 minutes. The service manager plans to have work begin on the transmission of a customer’s car 10 minutes after the car is dropped off and the customer is told that the car will be ready within 1 hour from drop-off. What is the probability that the service manager cannot meet his commitment? \n",
    "\n",
    "A.\t0.3875   \n",
    "B.\t0.2676   \n",
    "C.\t0.5   \n",
    "D.\t0.6987 "
   ]
  },
  {
   "cell_type": "code",
   "execution_count": 11,
   "id": "ada3c036",
   "metadata": {},
   "outputs": [
    {
     "data": {
      "text/plain": [
       "0.26598552904870054"
      ]
     },
     "execution_count": 11,
     "metadata": {},
     "output_type": "execute_result"
    }
   ],
   "source": [
    "1-stats.norm.cdf(60, 55, 8)\n",
    "# Ans is B) 0.2676"
   ]
  },
  {
   "cell_type": "markdown",
   "id": "f377eeb1",
   "metadata": {},
   "source": [
    "2.\tThe current age (in years) of 400 clerical employees at an insurance claims processing center is normally distributed with mean  = 38 and Standard deviation  =6. For each statement below, please specify True/False. If false, briefly explain why.\n",
    "A.\tMore employees at the processing center are older than 44 than between 38 and 44.\n",
    "B.\tA training program for employees under the age of 30 at the center would be expected to attract about 36 employees is"
   ]
  },
  {
   "cell_type": "code",
   "execution_count": 13,
   "id": "ad8a83a4",
   "metadata": {},
   "outputs": [
    {
     "data": {
      "text/plain": [
       "0.15865525393145707"
      ]
     },
     "execution_count": 13,
     "metadata": {},
     "output_type": "execute_result"
    }
   ],
   "source": [
    "# A. More employees at the processing center are older than 44 than between 38 and 44.\n",
    "\n",
    "# p(X>44); Employees older than 44 yrs of age\n",
    "1-stats.norm.cdf(44,loc=38,scale=6)"
   ]
  },
  {
   "cell_type": "code",
   "execution_count": 14,
   "id": "afed0507",
   "metadata": {},
   "outputs": [
    {
     "data": {
      "text/plain": [
       "0.3413447460685429"
      ]
     },
     "execution_count": 14,
     "metadata": {},
     "output_type": "execute_result"
    }
   ],
   "source": [
    "# p(38<X<44); Employees between 38 to 44 yrs of age\n",
    "stats.norm.cdf(44,38,6)-stats.norm.cdf(38,38,6)"
   ]
  },
  {
   "cell_type": "code",
   "execution_count": 15,
   "id": "d9bad079",
   "metadata": {},
   "outputs": [
    {
     "data": {
      "text/plain": [
       "0.09121121972586788"
      ]
     },
     "execution_count": 15,
     "metadata": {},
     "output_type": "execute_result"
    }
   ],
   "source": [
    "# B. A training program for employees under the age of 30 at the center would be expected to attract about 36 employees.\n",
    "\n",
    "# P(X<30); Employees under 30 yrs of age\n",
    "stats.norm.cdf(30,38,6)"
   ]
  },
  {
   "cell_type": "code",
   "execution_count": 16,
   "id": "b54dfa8e",
   "metadata": {},
   "outputs": [
    {
     "data": {
      "text/plain": [
       "36.484487890347154"
      ]
     },
     "execution_count": 16,
     "metadata": {},
     "output_type": "execute_result"
    }
   ],
   "source": [
    "# No. of employees attending training program from 400 nos. is N*P(X<30)\n",
    "400*stats.norm.cdf(30,38,6)"
   ]
  },
  {
   "cell_type": "markdown",
   "id": "168ef35d",
   "metadata": {},
   "source": [
    "4.\tLet X ~ N(100, 202). Find two values, a and b, symmetric about the mean, such that the probability of the random variable taking a value between them is 0.99."
   ]
  },
  {
   "cell_type": "code",
   "execution_count": 17,
   "id": "b30c3a3f",
   "metadata": {},
   "outputs": [
    {
     "data": {
      "text/plain": [
       "(48.48341392902199, 151.516586070978)"
      ]
     },
     "execution_count": 17,
     "metadata": {},
     "output_type": "execute_result"
    }
   ],
   "source": [
    "stats.norm.interval(0.99,100,20)"
   ]
  },
  {
   "cell_type": "markdown",
   "id": "2f059386",
   "metadata": {},
   "source": [
    "5.\tConsider a company that has two different divisions. The annual profits from the two divisions are independent and have distributions Profit1 ~ N(5, 32) and Profit2 ~ N(7, 42) respectively. Both the profits are in $ Million. Answer the following questions about the total profit of the company in Rupees. Assume that $1 = Rs. 45\n",
    "A.\tSpecify a Rupee range (centered on the mean) such that it contains 95% probability for the annual profit of the company.\n",
    "B.\tSpecify the 5th percentile of profit (in Rupees) for the company\n",
    "C.\tWhich of the two divisions has a larger probability of making a loss in a given year?\n"
   ]
  },
  {
   "cell_type": "code",
   "execution_count": 12,
   "id": "4e0eaec8",
   "metadata": {},
   "outputs": [
    {
     "name": "stdout",
     "output_type": "stream",
     "text": [
      "Mean Profit is Rs :  540 Million\n",
      "Standard Deviation is Rs :  225.0 Million\n"
     ]
    }
   ],
   "source": [
    "# Mean profits is:  Mean1 + Mean2\n",
    "Mean = 5+7\n",
    "print('Mean Profit is Rs : ', Mean*45,'Million')\n",
    "# Variance of profits is : SD^2 = SD1^2 + SD2^2\n",
    "Std = np.sqrt((9)+(16))\n",
    "print('Standard Deviation is Rs : ', Std*45, 'Million')"
   ]
  },
  {
   "cell_type": "markdown",
   "id": "368200b7",
   "metadata": {},
   "source": [
    "A. Specify a Rupee range (centered on the mean) such that it contains 95% probability for the annual profit of the company."
   ]
  },
  {
   "cell_type": "code",
   "execution_count": 13,
   "id": "82b1884c",
   "metadata": {},
   "outputs": [
    {
     "name": "stdout",
     "output_type": "stream",
     "text": [
      "Range is Rs :  (99.00810347848784, 980.9918965215122) in Millions\n"
     ]
    }
   ],
   "source": [
    "print('Range is Rs : ',(stats.norm.interval(0.95,540,225)),'in Millions')"
   ]
  },
  {
   "cell_type": "markdown",
   "id": "f6bb0ea3",
   "metadata": {},
   "source": [
    " B. Specify the 5th percentile of profit (in Rupees) for the company"
   ]
  },
  {
   "cell_type": "code",
   "execution_count": 15,
   "id": "e622db9c",
   "metadata": {},
   "outputs": [
    {
     "name": "stdout",
     "output_type": "stream",
     "text": [
      "Fifth percentile of profit (in Million Rupees) is :  202.0\n"
     ]
    }
   ],
   "source": [
    "# To compute 5th Percentile, we use the formula X=μ -1.5 * σ; wherein from z table, 5 percentile = -1.645\n",
    "X= 540-(1.5*225)\n",
    "print('Fifth percentile of profit (in Million Rupees) is : ',np.round(X,))"
   ]
  },
  {
   "cell_type": "markdown",
   "id": "a43d8d33",
   "metadata": {},
   "source": [
    " C. Which of the two divisions has a larger probability of making a loss in a given year?"
   ]
  },
  {
   "cell_type": "code",
   "execution_count": 6,
   "id": "75099ba4",
   "metadata": {},
   "outputs": [
    {
     "name": "stdout",
     "output_type": "stream",
     "text": [
      "Probability of Division 1 making a loss P(X<0) :  0.0477903522728147\n",
      "Probability of Division 2 making a loss P(X<0) :  0.040059156863817086\n"
     ]
    }
   ],
   "source": [
    "print(\"Probability of Division 1 making a loss P(X<0) : \", stats.norm.cdf(0,5,3))\n",
    "print(\"Probability of Division 2 making a loss P(X<0) : \", stats.norm.cdf(0,7,4))"
   ]
  },
  {
   "cell_type": "markdown",
   "id": "5d3acb3a",
   "metadata": {},
   "source": [
    "# Set-3  \n",
    "# Topics: Confidence Intervals"
   ]
  },
  {
   "cell_type": "markdown",
   "id": "1800ffe2",
   "metadata": {},
   "source": [
    "5.\tIn January 2005, a company that monitors Internet traffic (WebSideStory) reported that its sampling revealed that the Mozilla Firefox browser launched in 2004 had grabbed a 4.6% share of the market.\n",
    "\n",
    "I.\tIf the sample were based on 2,000 users, could Microsoft conclude that Mozilla has a less than 5% share of the market?\n",
    "\n",
    "II.\tWebSideStory claims that its sample includes all the daily Internet users. If that’s the case, then can Microsoft conclude that Mozilla has a less than 5% share of the market?\n"
   ]
  },
  {
   "cell_type": "markdown",
   "id": "741b6fb6",
   "metadata": {},
   "source": [
    "Question - 5(i)"
   ]
  },
  {
   "cell_type": "code",
   "execution_count": 18,
   "id": "bee58c43",
   "metadata": {},
   "outputs": [
    {
     "data": {
      "text/plain": [
       "-0.820782681668124"
      ]
     },
     "execution_count": 18,
     "metadata": {},
     "output_type": "execute_result"
    }
   ],
   "source": [
    "# Apply One-Sample One-Tail z-test\n",
    "z_scores=(0.046-0.05)/(np.sqrt((0.05*(1-0.05))/2000))\n",
    "z_scores"
   ]
  },
  {
   "cell_type": "markdown",
   "id": "861569c4",
   "metadata": {},
   "source": [
    "Question - 5(ii)"
   ]
  },
  {
   "cell_type": "code",
   "execution_count": 19,
   "id": "fdaa973a",
   "metadata": {},
   "outputs": [
    {
     "data": {
      "text/plain": [
       "0.20588503245107104"
      ]
     },
     "execution_count": 19,
     "metadata": {},
     "output_type": "execute_result"
    }
   ],
   "source": [
    "# Find Probability assuming null hyposthesis, so as to compare with Type-1 error α = 0.05\n",
    "p_value=1-stats.norm.cdf(abs(z_scores))\n",
    "p_value"
   ]
  },
  {
   "cell_type": "code",
   "execution_count": 20,
   "id": "c39fc62d",
   "metadata": {},
   "outputs": [
    {
     "data": {
      "text/plain": [
       "1.6857497236229495"
      ]
     },
     "execution_count": 20,
     "metadata": {},
     "output_type": "execute_result"
    }
   ],
   "source": [
    "stats.t.ppf(0.954,2000)"
   ]
  },
  {
   "cell_type": "markdown",
   "id": "9bd9ddee",
   "metadata": {},
   "source": [
    "# CBA: Practice Problem Set 2\n",
    "# Topics: Sampling Distributions and Central Limit Theorem\n"
   ]
  },
  {
   "cell_type": "code",
   "execution_count": 21,
   "id": "9905213f",
   "metadata": {},
   "outputs": [
    {
     "name": "stdout",
     "output_type": "stream",
     "text": [
      "The Auditors would like to maintain the probability of investigation to 5%, they should sample 248.0 transactions if they do not want to change the thresholds of 45 to 55\n",
      "248.3776 247.3776\n"
     ]
    },
    {
     "name": "stderr",
     "output_type": "stream",
     "text": [
      "C:\\Users\\ADMIN\\AppData\\Local\\Temp\\ipykernel_3728\\4025935895.py:20: DeprecationWarning: Use of keyword argument `alpha` for method `interval` is deprecated. Use first positional argument or keyword argument `confidence` instead.\n",
      "  np.round(stats.t.interval(alpha = 0.95, df = df, loc = mew, scale = s_std/np.sqrt(n)),)\n"
     ]
    },
    {
     "data": {
      "text/plain": [
       "array([45., 55.])"
      ]
     },
     "execution_count": 21,
     "metadata": {},
     "output_type": "execute_result"
    }
   ],
   "source": [
    "x_bar = 45\n",
    "s_std = 40\n",
    "mew = 50\n",
    "\n",
    "t = np.round(stats.t.ppf(0.025, df = 249),2)\n",
    "t\n",
    "\n",
    "# t_value = (x_bar - mew)/(sample_std/n**0.5)\n",
    "# t = 45-50 or z = 55-50 z = +/- 5\n",
    "\n",
    "# t = 5/(40/n**0.5)\n",
    "# n = (sample_standard_deviation*tscore)/(sample_mean=population_mean)\n",
    "n = ((s_std*abs(t)) / (5))**2\n",
    "\n",
    "print('The Auditors would like to maintain the probability of investigation to 5%, they should sample',np.round(n,),'transactions if they do not want to change the thresholds of 45 to 55')\n",
    "\n",
    "df= n-1\n",
    "print(n, df)\n",
    "\n",
    "np.round(stats.t.interval(alpha = 0.95, df = df, loc = mew, scale = s_std/np.sqrt(n)),)"
   ]
  },
  {
   "cell_type": "code",
   "execution_count": null,
   "id": "43166d95",
   "metadata": {},
   "outputs": [],
   "source": []
  }
 ],
 "metadata": {
  "kernelspec": {
   "display_name": "Python 3 (ipykernel)",
   "language": "python",
   "name": "python3"
  },
  "language_info": {
   "codemirror_mode": {
    "name": "ipython",
    "version": 3
   },
   "file_extension": ".py",
   "mimetype": "text/x-python",
   "name": "python",
   "nbconvert_exporter": "python",
   "pygments_lexer": "ipython3",
   "version": "3.9.13"
  }
 },
 "nbformat": 4,
 "nbformat_minor": 5
}
