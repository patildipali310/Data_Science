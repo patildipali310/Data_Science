{
 "cells": [
  {
   "cell_type": "markdown",
   "id": "06206075",
   "metadata": {},
   "source": [
    "# Assignment: 1"
   ]
  },
  {
   "cell_type": "code",
   "execution_count": 2,
   "id": "672bfe23",
   "metadata": {},
   "outputs": [],
   "source": [
    "import numpy as np\n",
    "import pandas as pd\n",
    "import scipy\n",
    "from scipy import stats\n",
    "import matplotlib.pyplot as plt\n",
    "import seaborn as sns\n",
    "from scipy.stats import norm"
   ]
  },
  {
   "cell_type": "markdown",
   "id": "f4bad392",
   "metadata": {},
   "source": [
    "Q6) Calculate the Expected number of candies for a randomly selected child \n",
    "Below are the probabilities of count of candies for children (ignoring the nature of the child-Generalized view)\n",
    "\n",
    "Child A – probability of having 1 candy = 0.015\n",
    "Child B – probability of having 4 candies = 0.20\n",
    "Child C – probability of having 3 candies = 0.65\n",
    "Child D – probability of having 5 candies = 0.005\n",
    "Child E – probability of having 6 candies = 0.01\n",
    "Child F – probability of having 2 candies = 0.120"
   ]
  },
  {
   "cell_type": "code",
   "execution_count": 7,
   "id": "93e3ac11",
   "metadata": {},
   "outputs": [
    {
     "name": "stdout",
     "output_type": "stream",
     "text": [
      "3.09\n"
     ]
    }
   ],
   "source": [
    "#Ans: Expected number of candies for a randomly selected child :\n",
    "import numpy as np\n",
    "Probability=[0.015,0.20,0.65,0.005,0.01,0.120]\n",
    "Candies_count=[1,4,3,5,6,2]\n",
    "x=0\n",
    "for i in Probability:\n",
    "    for j in Candies_count:\n",
    "        if Probability.index(i)==Candies_count.index(j):\n",
    "            x=x+(i*j)\n",
    "print(x)\n",
    "            "
   ]
  },
  {
   "cell_type": "markdown",
   "id": "14f7acf1",
   "metadata": {},
   "source": [
    "Q7) Calculate Mean, Median, Mode, Variance, Standard Deviation, Range &     comment about the values / draw inferences, for the given dataset\n",
    "-\tFor Points,Score,Weigh>\n",
    "Find Mean, Median, Mode, Variance, Standard Deviation, and Range and also Comment about the values/ Draw some inferences.\n"
   ]
  },
  {
   "cell_type": "code",
   "execution_count": 8,
   "id": "583d8d8b",
   "metadata": {},
   "outputs": [
    {
     "ename": "FileNotFoundError",
     "evalue": "[Errno 2] No such file or directory: 'D:/Data Science/Q7.csv'",
     "output_type": "error",
     "traceback": [
      "\u001b[1;31m---------------------------------------------------------------------------\u001b[0m",
      "\u001b[1;31mFileNotFoundError\u001b[0m                         Traceback (most recent call last)",
      "Input \u001b[1;32mIn [8]\u001b[0m, in \u001b[0;36m<cell line: 1>\u001b[1;34m()\u001b[0m\n\u001b[1;32m----> 1\u001b[0m df\u001b[38;5;241m=\u001b[39m\u001b[43mpd\u001b[49m\u001b[38;5;241;43m.\u001b[39;49m\u001b[43mread_csv\u001b[49m\u001b[43m(\u001b[49m\u001b[38;5;124;43m'\u001b[39;49m\u001b[38;5;124;43mD:/Data Science/Q7.csv\u001b[39;49m\u001b[38;5;124;43m'\u001b[39;49m\u001b[43m)\u001b[49m\n\u001b[0;32m      3\u001b[0m \u001b[38;5;28mprint\u001b[39m(\u001b[38;5;124m'\u001b[39m\u001b[38;5;124mMean :\u001b[39m\u001b[38;5;130;01m\\n\u001b[39;00m\u001b[38;5;124m'\u001b[39m, df\u001b[38;5;241m.\u001b[39mmean())\n\u001b[0;32m      4\u001b[0m \u001b[38;5;28mprint\u001b[39m(\u001b[38;5;124m'\u001b[39m\u001b[38;5;124mMedian \u001b[39m\u001b[38;5;130;01m\\n\u001b[39;00m\u001b[38;5;124m:\u001b[39m\u001b[38;5;124m'\u001b[39m, df\u001b[38;5;241m.\u001b[39mmedian())\n",
      "File \u001b[1;32m~\\anaconda3\\lib\\site-packages\\pandas\\util\\_decorators.py:311\u001b[0m, in \u001b[0;36mdeprecate_nonkeyword_arguments.<locals>.decorate.<locals>.wrapper\u001b[1;34m(*args, **kwargs)\u001b[0m\n\u001b[0;32m    305\u001b[0m \u001b[38;5;28;01mif\u001b[39;00m \u001b[38;5;28mlen\u001b[39m(args) \u001b[38;5;241m>\u001b[39m num_allow_args:\n\u001b[0;32m    306\u001b[0m     warnings\u001b[38;5;241m.\u001b[39mwarn(\n\u001b[0;32m    307\u001b[0m         msg\u001b[38;5;241m.\u001b[39mformat(arguments\u001b[38;5;241m=\u001b[39marguments),\n\u001b[0;32m    308\u001b[0m         \u001b[38;5;167;01mFutureWarning\u001b[39;00m,\n\u001b[0;32m    309\u001b[0m         stacklevel\u001b[38;5;241m=\u001b[39mstacklevel,\n\u001b[0;32m    310\u001b[0m     )\n\u001b[1;32m--> 311\u001b[0m \u001b[38;5;28;01mreturn\u001b[39;00m func(\u001b[38;5;241m*\u001b[39margs, \u001b[38;5;241m*\u001b[39m\u001b[38;5;241m*\u001b[39mkwargs)\n",
      "File \u001b[1;32m~\\anaconda3\\lib\\site-packages\\pandas\\io\\parsers\\readers.py:680\u001b[0m, in \u001b[0;36mread_csv\u001b[1;34m(filepath_or_buffer, sep, delimiter, header, names, index_col, usecols, squeeze, prefix, mangle_dupe_cols, dtype, engine, converters, true_values, false_values, skipinitialspace, skiprows, skipfooter, nrows, na_values, keep_default_na, na_filter, verbose, skip_blank_lines, parse_dates, infer_datetime_format, keep_date_col, date_parser, dayfirst, cache_dates, iterator, chunksize, compression, thousands, decimal, lineterminator, quotechar, quoting, doublequote, escapechar, comment, encoding, encoding_errors, dialect, error_bad_lines, warn_bad_lines, on_bad_lines, delim_whitespace, low_memory, memory_map, float_precision, storage_options)\u001b[0m\n\u001b[0;32m    665\u001b[0m kwds_defaults \u001b[38;5;241m=\u001b[39m _refine_defaults_read(\n\u001b[0;32m    666\u001b[0m     dialect,\n\u001b[0;32m    667\u001b[0m     delimiter,\n\u001b[1;32m   (...)\u001b[0m\n\u001b[0;32m    676\u001b[0m     defaults\u001b[38;5;241m=\u001b[39m{\u001b[38;5;124m\"\u001b[39m\u001b[38;5;124mdelimiter\u001b[39m\u001b[38;5;124m\"\u001b[39m: \u001b[38;5;124m\"\u001b[39m\u001b[38;5;124m,\u001b[39m\u001b[38;5;124m\"\u001b[39m},\n\u001b[0;32m    677\u001b[0m )\n\u001b[0;32m    678\u001b[0m kwds\u001b[38;5;241m.\u001b[39mupdate(kwds_defaults)\n\u001b[1;32m--> 680\u001b[0m \u001b[38;5;28;01mreturn\u001b[39;00m \u001b[43m_read\u001b[49m\u001b[43m(\u001b[49m\u001b[43mfilepath_or_buffer\u001b[49m\u001b[43m,\u001b[49m\u001b[43m \u001b[49m\u001b[43mkwds\u001b[49m\u001b[43m)\u001b[49m\n",
      "File \u001b[1;32m~\\anaconda3\\lib\\site-packages\\pandas\\io\\parsers\\readers.py:575\u001b[0m, in \u001b[0;36m_read\u001b[1;34m(filepath_or_buffer, kwds)\u001b[0m\n\u001b[0;32m    572\u001b[0m _validate_names(kwds\u001b[38;5;241m.\u001b[39mget(\u001b[38;5;124m\"\u001b[39m\u001b[38;5;124mnames\u001b[39m\u001b[38;5;124m\"\u001b[39m, \u001b[38;5;28;01mNone\u001b[39;00m))\n\u001b[0;32m    574\u001b[0m \u001b[38;5;66;03m# Create the parser.\u001b[39;00m\n\u001b[1;32m--> 575\u001b[0m parser \u001b[38;5;241m=\u001b[39m TextFileReader(filepath_or_buffer, \u001b[38;5;241m*\u001b[39m\u001b[38;5;241m*\u001b[39mkwds)\n\u001b[0;32m    577\u001b[0m \u001b[38;5;28;01mif\u001b[39;00m chunksize \u001b[38;5;129;01mor\u001b[39;00m iterator:\n\u001b[0;32m    578\u001b[0m     \u001b[38;5;28;01mreturn\u001b[39;00m parser\n",
      "File \u001b[1;32m~\\anaconda3\\lib\\site-packages\\pandas\\io\\parsers\\readers.py:933\u001b[0m, in \u001b[0;36mTextFileReader.__init__\u001b[1;34m(self, f, engine, **kwds)\u001b[0m\n\u001b[0;32m    930\u001b[0m     \u001b[38;5;28mself\u001b[39m\u001b[38;5;241m.\u001b[39moptions[\u001b[38;5;124m\"\u001b[39m\u001b[38;5;124mhas_index_names\u001b[39m\u001b[38;5;124m\"\u001b[39m] \u001b[38;5;241m=\u001b[39m kwds[\u001b[38;5;124m\"\u001b[39m\u001b[38;5;124mhas_index_names\u001b[39m\u001b[38;5;124m\"\u001b[39m]\n\u001b[0;32m    932\u001b[0m \u001b[38;5;28mself\u001b[39m\u001b[38;5;241m.\u001b[39mhandles: IOHandles \u001b[38;5;241m|\u001b[39m \u001b[38;5;28;01mNone\u001b[39;00m \u001b[38;5;241m=\u001b[39m \u001b[38;5;28;01mNone\u001b[39;00m\n\u001b[1;32m--> 933\u001b[0m \u001b[38;5;28mself\u001b[39m\u001b[38;5;241m.\u001b[39m_engine \u001b[38;5;241m=\u001b[39m \u001b[38;5;28;43mself\u001b[39;49m\u001b[38;5;241;43m.\u001b[39;49m\u001b[43m_make_engine\u001b[49m\u001b[43m(\u001b[49m\u001b[43mf\u001b[49m\u001b[43m,\u001b[49m\u001b[43m \u001b[49m\u001b[38;5;28;43mself\u001b[39;49m\u001b[38;5;241;43m.\u001b[39;49m\u001b[43mengine\u001b[49m\u001b[43m)\u001b[49m\n",
      "File \u001b[1;32m~\\anaconda3\\lib\\site-packages\\pandas\\io\\parsers\\readers.py:1217\u001b[0m, in \u001b[0;36mTextFileReader._make_engine\u001b[1;34m(self, f, engine)\u001b[0m\n\u001b[0;32m   1213\u001b[0m     mode \u001b[38;5;241m=\u001b[39m \u001b[38;5;124m\"\u001b[39m\u001b[38;5;124mrb\u001b[39m\u001b[38;5;124m\"\u001b[39m\n\u001b[0;32m   1214\u001b[0m \u001b[38;5;66;03m# error: No overload variant of \"get_handle\" matches argument types\u001b[39;00m\n\u001b[0;32m   1215\u001b[0m \u001b[38;5;66;03m# \"Union[str, PathLike[str], ReadCsvBuffer[bytes], ReadCsvBuffer[str]]\"\u001b[39;00m\n\u001b[0;32m   1216\u001b[0m \u001b[38;5;66;03m# , \"str\", \"bool\", \"Any\", \"Any\", \"Any\", \"Any\", \"Any\"\u001b[39;00m\n\u001b[1;32m-> 1217\u001b[0m \u001b[38;5;28mself\u001b[39m\u001b[38;5;241m.\u001b[39mhandles \u001b[38;5;241m=\u001b[39m \u001b[43mget_handle\u001b[49m\u001b[43m(\u001b[49m\u001b[43m  \u001b[49m\u001b[38;5;66;43;03m# type: ignore[call-overload]\u001b[39;49;00m\n\u001b[0;32m   1218\u001b[0m \u001b[43m    \u001b[49m\u001b[43mf\u001b[49m\u001b[43m,\u001b[49m\n\u001b[0;32m   1219\u001b[0m \u001b[43m    \u001b[49m\u001b[43mmode\u001b[49m\u001b[43m,\u001b[49m\n\u001b[0;32m   1220\u001b[0m \u001b[43m    \u001b[49m\u001b[43mencoding\u001b[49m\u001b[38;5;241;43m=\u001b[39;49m\u001b[38;5;28;43mself\u001b[39;49m\u001b[38;5;241;43m.\u001b[39;49m\u001b[43moptions\u001b[49m\u001b[38;5;241;43m.\u001b[39;49m\u001b[43mget\u001b[49m\u001b[43m(\u001b[49m\u001b[38;5;124;43m\"\u001b[39;49m\u001b[38;5;124;43mencoding\u001b[39;49m\u001b[38;5;124;43m\"\u001b[39;49m\u001b[43m,\u001b[49m\u001b[43m \u001b[49m\u001b[38;5;28;43;01mNone\u001b[39;49;00m\u001b[43m)\u001b[49m\u001b[43m,\u001b[49m\n\u001b[0;32m   1221\u001b[0m \u001b[43m    \u001b[49m\u001b[43mcompression\u001b[49m\u001b[38;5;241;43m=\u001b[39;49m\u001b[38;5;28;43mself\u001b[39;49m\u001b[38;5;241;43m.\u001b[39;49m\u001b[43moptions\u001b[49m\u001b[38;5;241;43m.\u001b[39;49m\u001b[43mget\u001b[49m\u001b[43m(\u001b[49m\u001b[38;5;124;43m\"\u001b[39;49m\u001b[38;5;124;43mcompression\u001b[39;49m\u001b[38;5;124;43m\"\u001b[39;49m\u001b[43m,\u001b[49m\u001b[43m \u001b[49m\u001b[38;5;28;43;01mNone\u001b[39;49;00m\u001b[43m)\u001b[49m\u001b[43m,\u001b[49m\n\u001b[0;32m   1222\u001b[0m \u001b[43m    \u001b[49m\u001b[43mmemory_map\u001b[49m\u001b[38;5;241;43m=\u001b[39;49m\u001b[38;5;28;43mself\u001b[39;49m\u001b[38;5;241;43m.\u001b[39;49m\u001b[43moptions\u001b[49m\u001b[38;5;241;43m.\u001b[39;49m\u001b[43mget\u001b[49m\u001b[43m(\u001b[49m\u001b[38;5;124;43m\"\u001b[39;49m\u001b[38;5;124;43mmemory_map\u001b[39;49m\u001b[38;5;124;43m\"\u001b[39;49m\u001b[43m,\u001b[49m\u001b[43m \u001b[49m\u001b[38;5;28;43;01mFalse\u001b[39;49;00m\u001b[43m)\u001b[49m\u001b[43m,\u001b[49m\n\u001b[0;32m   1223\u001b[0m \u001b[43m    \u001b[49m\u001b[43mis_text\u001b[49m\u001b[38;5;241;43m=\u001b[39;49m\u001b[43mis_text\u001b[49m\u001b[43m,\u001b[49m\n\u001b[0;32m   1224\u001b[0m \u001b[43m    \u001b[49m\u001b[43merrors\u001b[49m\u001b[38;5;241;43m=\u001b[39;49m\u001b[38;5;28;43mself\u001b[39;49m\u001b[38;5;241;43m.\u001b[39;49m\u001b[43moptions\u001b[49m\u001b[38;5;241;43m.\u001b[39;49m\u001b[43mget\u001b[49m\u001b[43m(\u001b[49m\u001b[38;5;124;43m\"\u001b[39;49m\u001b[38;5;124;43mencoding_errors\u001b[39;49m\u001b[38;5;124;43m\"\u001b[39;49m\u001b[43m,\u001b[49m\u001b[43m \u001b[49m\u001b[38;5;124;43m\"\u001b[39;49m\u001b[38;5;124;43mstrict\u001b[39;49m\u001b[38;5;124;43m\"\u001b[39;49m\u001b[43m)\u001b[49m\u001b[43m,\u001b[49m\n\u001b[0;32m   1225\u001b[0m \u001b[43m    \u001b[49m\u001b[43mstorage_options\u001b[49m\u001b[38;5;241;43m=\u001b[39;49m\u001b[38;5;28;43mself\u001b[39;49m\u001b[38;5;241;43m.\u001b[39;49m\u001b[43moptions\u001b[49m\u001b[38;5;241;43m.\u001b[39;49m\u001b[43mget\u001b[49m\u001b[43m(\u001b[49m\u001b[38;5;124;43m\"\u001b[39;49m\u001b[38;5;124;43mstorage_options\u001b[39;49m\u001b[38;5;124;43m\"\u001b[39;49m\u001b[43m,\u001b[49m\u001b[43m \u001b[49m\u001b[38;5;28;43;01mNone\u001b[39;49;00m\u001b[43m)\u001b[49m\u001b[43m,\u001b[49m\n\u001b[0;32m   1226\u001b[0m \u001b[43m\u001b[49m\u001b[43m)\u001b[49m\n\u001b[0;32m   1227\u001b[0m \u001b[38;5;28;01massert\u001b[39;00m \u001b[38;5;28mself\u001b[39m\u001b[38;5;241m.\u001b[39mhandles \u001b[38;5;129;01mis\u001b[39;00m \u001b[38;5;129;01mnot\u001b[39;00m \u001b[38;5;28;01mNone\u001b[39;00m\n\u001b[0;32m   1228\u001b[0m f \u001b[38;5;241m=\u001b[39m \u001b[38;5;28mself\u001b[39m\u001b[38;5;241m.\u001b[39mhandles\u001b[38;5;241m.\u001b[39mhandle\n",
      "File \u001b[1;32m~\\anaconda3\\lib\\site-packages\\pandas\\io\\common.py:789\u001b[0m, in \u001b[0;36mget_handle\u001b[1;34m(path_or_buf, mode, encoding, compression, memory_map, is_text, errors, storage_options)\u001b[0m\n\u001b[0;32m    784\u001b[0m \u001b[38;5;28;01melif\u001b[39;00m \u001b[38;5;28misinstance\u001b[39m(handle, \u001b[38;5;28mstr\u001b[39m):\n\u001b[0;32m    785\u001b[0m     \u001b[38;5;66;03m# Check whether the filename is to be opened in binary mode.\u001b[39;00m\n\u001b[0;32m    786\u001b[0m     \u001b[38;5;66;03m# Binary mode does not support 'encoding' and 'newline'.\u001b[39;00m\n\u001b[0;32m    787\u001b[0m     \u001b[38;5;28;01mif\u001b[39;00m ioargs\u001b[38;5;241m.\u001b[39mencoding \u001b[38;5;129;01mand\u001b[39;00m \u001b[38;5;124m\"\u001b[39m\u001b[38;5;124mb\u001b[39m\u001b[38;5;124m\"\u001b[39m \u001b[38;5;129;01mnot\u001b[39;00m \u001b[38;5;129;01min\u001b[39;00m ioargs\u001b[38;5;241m.\u001b[39mmode:\n\u001b[0;32m    788\u001b[0m         \u001b[38;5;66;03m# Encoding\u001b[39;00m\n\u001b[1;32m--> 789\u001b[0m         handle \u001b[38;5;241m=\u001b[39m \u001b[38;5;28;43mopen\u001b[39;49m\u001b[43m(\u001b[49m\n\u001b[0;32m    790\u001b[0m \u001b[43m            \u001b[49m\u001b[43mhandle\u001b[49m\u001b[43m,\u001b[49m\n\u001b[0;32m    791\u001b[0m \u001b[43m            \u001b[49m\u001b[43mioargs\u001b[49m\u001b[38;5;241;43m.\u001b[39;49m\u001b[43mmode\u001b[49m\u001b[43m,\u001b[49m\n\u001b[0;32m    792\u001b[0m \u001b[43m            \u001b[49m\u001b[43mencoding\u001b[49m\u001b[38;5;241;43m=\u001b[39;49m\u001b[43mioargs\u001b[49m\u001b[38;5;241;43m.\u001b[39;49m\u001b[43mencoding\u001b[49m\u001b[43m,\u001b[49m\n\u001b[0;32m    793\u001b[0m \u001b[43m            \u001b[49m\u001b[43merrors\u001b[49m\u001b[38;5;241;43m=\u001b[39;49m\u001b[43merrors\u001b[49m\u001b[43m,\u001b[49m\n\u001b[0;32m    794\u001b[0m \u001b[43m            \u001b[49m\u001b[43mnewline\u001b[49m\u001b[38;5;241;43m=\u001b[39;49m\u001b[38;5;124;43m\"\u001b[39;49m\u001b[38;5;124;43m\"\u001b[39;49m\u001b[43m,\u001b[49m\n\u001b[0;32m    795\u001b[0m \u001b[43m        \u001b[49m\u001b[43m)\u001b[49m\n\u001b[0;32m    796\u001b[0m     \u001b[38;5;28;01melse\u001b[39;00m:\n\u001b[0;32m    797\u001b[0m         \u001b[38;5;66;03m# Binary mode\u001b[39;00m\n\u001b[0;32m    798\u001b[0m         handle \u001b[38;5;241m=\u001b[39m \u001b[38;5;28mopen\u001b[39m(handle, ioargs\u001b[38;5;241m.\u001b[39mmode)\n",
      "\u001b[1;31mFileNotFoundError\u001b[0m: [Errno 2] No such file or directory: 'D:/Data Science/Q7.csv'"
     ]
    }
   ],
   "source": [
    "df=pd.read_csv('D:/Data Science/Q7.csv')\n",
    "\n",
    "print('Mean :\\n', df.mean())\n",
    "print('Median \\n:', df.median())\n",
    "print('Mode \\n:', stats.mode(df))\n",
    "print('Standard Deviation \\n:', df.std())\n",
    "print('Variance \\n:', df.var())\n",
    "print('Maximum Value \\n:', df.max())\n",
    "print('Minimum \\n:', df.min())\n",
    "print('Range is \\n:',df.Points.max()-df.Points.min())\n",
    "print(df.Score.max()-df.Score.min())\n",
    "print(df.Weight.max()-df.Weight.min())\n",
    "\n",
    "plt.boxplot(df.Points, vert=False)\n",
    "plt.boxplot(df.Score, vert=False)\n",
    "plt.boxplot(df.Weight, vert=False)\n",
    "sns.jointplot(df.Points, kind='kde')\n",
    "sns.jointplot(df.Score, kind='kde')\n",
    "sns.jointplot(df.Weight, kind='kde')\n",
    "\n",
    "'''Inferences:\n",
    "by plotting jointplot, we can say the given data of points,scores, weights are shifted towards left and its tail on the right side,\n",
    "it is a positively/right-skewed distribution.\n",
    "by plotting boxplots of each columns we conclude that Score and Weight columns have some outliers on right side\n",
    "Points and Weight dataset are a bimodal because it is having two modes and score is unimodal because it having single mode.'''"
   ]
  },
  {
   "cell_type": "markdown",
   "id": "ea1a5359",
   "metadata": {},
   "source": [
    "Q8) Calculate Expected Value for the problem below\n",
    "a)\tThe weights (X) of patients at a clinic (in pounds), are\n",
    "108, 110, 123, 134, 135, 145, 167, 187, 199\n",
    "Assume one of the patients is chosen at random. What is the Expected Value of the Weight of that patient?\n"
   ]
  },
  {
   "cell_type": "code",
   "execution_count": null,
   "id": "145be2b1",
   "metadata": {},
   "outputs": [],
   "source": [
    "Weights=(108, 110, 123, 134, 135, 145, 167, 187, 199)\n",
    "Expected_value=sum(Weights)/len(Weights)\n",
    "print('Expected Value of the Weight of that patient is:', Expected_value)"
   ]
  },
  {
   "cell_type": "markdown",
   "id": "5c5111d0",
   "metadata": {},
   "source": [
    "Q9) Calculate Skewness, Kurtosis & draw inferences on the following data\n",
    "      Cars speed and distance \n"
   ]
  },
  {
   "cell_type": "code",
   "execution_count": null,
   "id": "7b7c78bb",
   "metadata": {},
   "outputs": [],
   "source": [
    "#  A)  Index, Speed and Distance\n",
    "Index=np.arange(1,51)\n",
    "Speed=(4,4,7,7,8,9,10,10,10,11,11,12,12,12,12,13,13,13,13,14,14,14,14,15,15,15,16,16,17,17,17,18,18,18,18,19,19,19,20,20,20,20,20,22,23,24,24,24,24,25)\n",
    "Dist=(2,10,4,22,16,10,18,26,34,17,28,14,20,24,28,26,34,34,46,26,36,60,80,20,26,54,32,40,32,40,50,42,56,76,84,36,46,68,32,48,52,56,64,66,54,70,92,93,120,85)\n",
    "print('Skewness of Index is:', scipy.stats.skew(Index))\n",
    "print('Skewness of Speed is:', scipy.stats.skew(Speed))\n",
    "print('Skewness of Distance is:', scipy.stats.skew(Dist))\n",
    "print('Kurtosis of Index is:', scipy.stats.kurtosis(Index))\n",
    "print('Kurtosis of Speed is:', scipy.stats.kurtosis(Speed))\n",
    "print('Kurtosis of Distance is:', scipy.stats.kurtosis(Dist))\n",
    "\n",
    "sns.jointplot(Speed, kind='kde')\n",
    "sns.jointplot(Dist, kind='kde')\n",
    "plt.show()\n",
    "\n",
    "'''Inference:\n",
    "The given data of dist are shifted towards left and its tail on the right side, it is a positively/right-skewed distribution.\n",
    "The given data of speed are shifted towards right and its tail on the left side, it is a negatively/left-skewed distribution.'''"
   ]
  },
  {
   "cell_type": "code",
   "execution_count": null,
   "id": "919cb0fd",
   "metadata": {},
   "outputs": [],
   "source": [
    "#  B) SP and Weight(WT)\n",
    "import pandas as pd\n",
    "data=pd.read_csv('C:/Users/ADMIN/Downloads/Q9_b.csv')\n",
    "\n",
    "print('Skewness of Index is:', scipy.stats.skew(data.SP))\n",
    "print('Skewness of Speed is:', scipy.stats.skew(data.WT))\n",
    "print('Kurtosis of Index is:', scipy.stats.kurtosis(data.SP))\n",
    "print('Kurtosis of Speed is:', scipy.stats.kurtosis(data.WT))\n",
    "\n",
    "plt.hist(data.SP, color='red')\n",
    "plt.hist(data.WT, color='green')\n",
    "plt.show()\n",
    "\n",
    "'''Inference:\n",
    "Most data points of SP are shifted towards left and its tail on the right side, it is a positively/right-skewed distribution.\n",
    "Most data points of WT are shifted towards right and its tail on the left side, it is a negatively/left-skewed distribution.'''"
   ]
  },
  {
   "cell_type": "markdown",
   "id": "5239e965",
   "metadata": {},
   "source": [
    "Q11)Suppose we want to estimate the average weight of an adult male in Mexico. We draw a random sample of 2,000 men from a population of 3,000,000 men and weight them. We find that the average person in our sample weights 200 pounds, and the standard deviation of the sample is 30 pounds. Calculate 94%,98%,96% confidence interval?"
   ]
  },
  {
   "cell_type": "code",
   "execution_count": null,
   "id": "918359a2",
   "metadata": {},
   "outputs": [],
   "source": [
    "from scipy import stats\n",
    "print('Confidence Interval for 94% is:', stats.norm.interval(0.94,200,30/(2000**0.5)))\n",
    "print('Confidence Interval for 98% is:', stats.norm.interval(0.98,200,30/(2000**0.5)))\n",
    "print('Confidence Interval for 96% is:', stats.norm.interval(0.96,200,30/(2000**0.5)))"
   ]
  },
  {
   "cell_type": "markdown",
   "id": "a31eddc0",
   "metadata": {},
   "source": [
    "Q12)  Below are the scores obtained by a student in tests \n",
    "34,36,36,38,38,39,39,40,40,41,41,41,41,42,42,45,49,56\n",
    "1)\tFind mean, median, variance, standard deviation.\n",
    "2)\tWhat can we say about the student marks? \n",
    "Ans: \n"
   ]
  },
  {
   "cell_type": "code",
   "execution_count": null,
   "id": "4a8134f7",
   "metadata": {},
   "outputs": [],
   "source": [
    "#  1)\n",
    "data=np.array([34,36,36,38,38,39,39,40,40,41,41,41,41,42,42,45,49,56])\n",
    "mean=np.mean(data)\n",
    "print('Mean is:', mean)\n",
    "median=np.median(data)\n",
    "print('Median is:', median)\n",
    "var=np.var(data)\n",
    "print('Variance is:', var)\n",
    "std=np.std(data)\n",
    "print('Standard Deviation is:', std)\n",
    "\n",
    "plt.boxplot(data)\n",
    "#plt.hist(data)\n",
    "plt.show()\n",
    "\n",
    "''' 2) from Histogram, we can say given data are shifted towards left and its tail on the right side, \n",
    "  it is a positively/right-skewed distribution. \n",
    "  from boxplot, we can say outliers are exists along right side of the boxplot.'''"
   ]
  },
  {
   "cell_type": "markdown",
   "id": "a20fff60",
   "metadata": {},
   "source": [
    "Q 20) Calculate probability from the given dataset for the below cases\n",
    "Calculate the probability of MPG  of Cars for the below cases.\n",
    "       MPG <- Cars$MPG\n",
    "a.\tP(MPG>38)\n",
    "b.\tP(MPG<40)\n",
    "c.  P (20<MPG<50)"
   ]
  },
  {
   "cell_type": "code",
   "execution_count": null,
   "id": "bf8ba47c",
   "metadata": {},
   "outputs": [],
   "source": [
    "car=pd.read_csv(\"C:/Users/ADMIN/Downloads/Cars.csv\")\n",
    "car_mpg = car['MPG']\n",
    "car_mpg_mean = car.MPG.mean()\n",
    "car_mpg_std = car.MPG.std()\n",
    "print(car_mpg_mean)\n",
    "print(car_mpg_std)\n",
    "\n",
    "#P(MPG>38)\n",
    "print('Probability for MPG>38 is:', 1-stats.norm.cdf(38,car_mpg_mean,car_mpg_std))\n",
    "\n",
    "#P(MPG<40)\n",
    "print('Probability for MPG<40 is:', stats.norm.cdf(40,car_mpg_mean,car_mpg_std))\n",
    "\n",
    "#P(20<MPG<50)\n",
    "mpg_20 = stats.norm.cdf(20,car.MPG.mean(),car.MPG.std())\n",
    "mpg_50 = 1-stats.norm.cdf(50,car.MPG.mean(),car.MPG.std())\n",
    "#print(mpg_20)\n",
    "#print(mpg_50)\n",
    "print('Probability for 20<MPG<50 is:',mpg_50-mpg_20)"
   ]
  },
  {
   "cell_type": "markdown",
   "id": "0153284f",
   "metadata": {},
   "source": [
    "Q 21) Check whether the data follows normal distribution\n",
    "a)\tCheck whether the MPG of Cars follows Normal Distribution \n",
    "        Dataset: Cars.csv\n",
    "\n",
    "\n",
    "b)\tCheck Whether the Adipose Tissue (AT) and Waist Circumference(Waist)  from wc-at data set  follows Normal Distribution \n",
    "       Dataset: wc-at.csv\n"
   ]
  },
  {
   "cell_type": "code",
   "execution_count": null,
   "id": "7c3f8b63",
   "metadata": {},
   "outputs": [],
   "source": [
    "car=pd.read_csv(\"C:/Users/ADMIN/Downloads/Cars.csv\")\n",
    "car_mpg = car['MPG']\n",
    "plt.hist(car_mpg)\n",
    "plt.show()"
   ]
  },
  {
   "cell_type": "code",
   "execution_count": null,
   "id": "25cb0ac1",
   "metadata": {},
   "outputs": [],
   "source": [
    "wtat=pd.read_csv(\"C:/Users/ADMIN/Downloads/wc-at.csv\")\n",
    "#wtat.info()\n",
    "#plt.plot(wtat.Waist)\n",
    "#plt.plot(wtat.AT)\n",
    "plt.plot(wtat.Waist,wtat.AT)\n",
    "plt.show()\n",
    "\n",
    "# Data does not follows  bell curve, data distributed randomly.\n",
    "#Mean ≠ Median ≠ Mode"
   ]
  },
  {
   "cell_type": "markdown",
   "id": "0a310b95",
   "metadata": {},
   "source": [
    "Q 22) Calculate the Z scores of  90% confidence interval,94% confidence interval, 60% confidence interval "
   ]
  },
  {
   "cell_type": "code",
   "execution_count": null,
   "id": "87607cac",
   "metadata": {},
   "outputs": [],
   "source": [
    "#for 90% ,  \n",
    "z_score = 1-0.90\n",
    "print('Z_Score for 90 % is:', z_score)\n",
    "#Z0.1 = 1.28  (Using Z-Table)\n",
    "#For 94 % ,\n",
    "z_score1 = (1-0.94)\n",
    "print('Z_Score for 90 % is:', z_score1)\n",
    "#Z0.06 = 1.55  (Using Z-Table)\n",
    "#For 60% ,  \n",
    "z_score2 = (1-0.60)\n",
    "print('Z_Score for 90 % is:', z_score2)\n",
    "#Z0.4 = 0.25  (Using Z-Table)"
   ]
  },
  {
   "cell_type": "markdown",
   "id": "18ee5641",
   "metadata": {},
   "source": [
    "Q 23) Calculate the t scores of 95% confidence interval, 96% confidence interval, 99% confidence interval for sample size of 25"
   ]
  },
  {
   "cell_type": "code",
   "execution_count": null,
   "id": "08ac6a82",
   "metadata": {},
   "outputs": [],
   "source": [
    "t_score= (1-0.95)/2\n",
    "print('t_score of 95% is:',t_score)\n",
    "#t0.025= 2.060\n",
    "t_score1= (1-0.96)/2\n",
    "print('t_score of 96% is:',t_score1)\n",
    "#t0.02= 2.485\n",
    "t_score2= (1-0.99)/2\n",
    "print('t_score of 99% is:',t_score2)\n",
    "#t0.005= 2.787"
   ]
  },
  {
   "cell_type": "markdown",
   "id": "0d37e107",
   "metadata": {},
   "source": [
    " Q 24)   A Government  company claims that an average light bulb lasts 270 days. A researcher randomly selects 18 bulbs for testing. The sampled bulbs last an average of 260 days, with a standard deviation of 90 days. If the CEO's claim were true, what is the probability that 18 randomly selected bulbs would have an average life of no more than 260 days\n",
    "Hint:  \n",
    "   rcode   pt(tscore,df)  \n",
    " df  degrees of freedom\n"
   ]
  },
  {
   "cell_type": "code",
   "execution_count": 3,
   "id": "6fec9f58",
   "metadata": {},
   "outputs": [
    {
     "name": "stdout",
     "output_type": "stream",
     "text": [
      "T_Score is -0.4714045207910317\n",
      "P_value is: 0.32167411684460556\n"
     ]
    }
   ],
   "source": [
    "#H0= average life >= 260 days\n",
    "#H1 = average life < 260 days\n",
    "# tscore = x - µ / (ϭ / √n)\n",
    "tscore = (260-270) / (90/ np.sqrt(18))\n",
    "print('T_Score is', tscore)\n",
    "p_value = stats.t.cdf(-0.4714, df = 17)\n",
    "print('P_value is:', p_value)"
   ]
  },
  {
   "cell_type": "code",
   "execution_count": null,
   "id": "29147fa8",
   "metadata": {},
   "outputs": [],
   "source": []
  }
 ],
 "metadata": {
  "kernelspec": {
   "display_name": "Python 3 (ipykernel)",
   "language": "python",
   "name": "python3"
  },
  "language_info": {
   "codemirror_mode": {
    "name": "ipython",
    "version": 3
   },
   "file_extension": ".py",
   "mimetype": "text/x-python",
   "name": "python",
   "nbconvert_exporter": "python",
   "pygments_lexer": "ipython3",
   "version": "3.9.13"
  }
 },
 "nbformat": 4,
 "nbformat_minor": 5
}
